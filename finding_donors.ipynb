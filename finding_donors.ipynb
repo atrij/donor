{
 "cells": [
  {
   "cell_type": "markdown",
   "metadata": {},
   "source": [
    "# Project: Finding Donors for *CharityML*"
   ]
  },
  {
   "cell_type": "markdown",
   "metadata": {},
   "source": [
    "## Problem Description\n",
    "\n",
    "In this project, implementation of several supervised algorithms to accurately model individuals' income using data collected from the 1994 U.S. Census will be done. Then the best candidate algorithm from preliminary results will be choosen and further optimize this algorithm to best model the data. The goal with this implementation is to construct a model that accurately predicts whether an individual makes more than $50,000. This sort of task can arise in a non-profit setting, where organizations survive on donations.  Understanding an individual's income can help a non-profit better understand how large of a donation to request, or whether or not they should reach out to begin with.  While it can be difficult to determine an individual's general income bracket directly from public sources, we can (as we will see) infer this value from other publically available features. \n",
    "\n",
    "The dataset for this project originates from the [UCI Machine Learning Repository](https://archive.ics.uci.edu/ml/datasets/Census+Income). The datset was donated by Ron Kohavi and Barry Becker, after being published in the article _\"Scaling Up the Accuracy of Naive-Bayes Classifiers: A Decision-Tree Hybrid\"_. You can find the article by Ron Kohavi [online](https://www.aaai.org/Papers/KDD/1996/KDD96-033.pdf). The data we investigate here consists of small changes to the original dataset, such as removing the `'fnlwgt'` feature and records with missing or ill-formatted entries."
   ]
  },
  {
   "cell_type": "markdown",
   "metadata": {},
   "source": [
    "----\n",
    "## Exploring the Data\n",
    "Run the code cell below to load necessary Python libraries and load the census data. Note that the last column from this dataset, `'income'`, will be our target label (whether an individual makes more than, or at most, $50,000 annually). All other columns are features about each individual in the census database."
   ]
  },
  {
   "cell_type": "code",
   "execution_count": 1,
   "metadata": {},
   "outputs": [
    {
     "data": {
      "text/html": [
       "<div>\n",
       "<style>\n",
       "    .dataframe thead tr:only-child th {\n",
       "        text-align: right;\n",
       "    }\n",
       "\n",
       "    .dataframe thead th {\n",
       "        text-align: left;\n",
       "    }\n",
       "\n",
       "    .dataframe tbody tr th {\n",
       "        vertical-align: top;\n",
       "    }\n",
       "</style>\n",
       "<table border=\"1\" class=\"dataframe\">\n",
       "  <thead>\n",
       "    <tr style=\"text-align: right;\">\n",
       "      <th></th>\n",
       "      <th>age</th>\n",
       "      <th>workclass</th>\n",
       "      <th>education_level</th>\n",
       "      <th>education-num</th>\n",
       "      <th>marital-status</th>\n",
       "      <th>occupation</th>\n",
       "      <th>relationship</th>\n",
       "      <th>race</th>\n",
       "      <th>sex</th>\n",
       "      <th>capital-gain</th>\n",
       "      <th>capital-loss</th>\n",
       "      <th>hours-per-week</th>\n",
       "      <th>native-country</th>\n",
       "      <th>income</th>\n",
       "    </tr>\n",
       "  </thead>\n",
       "  <tbody>\n",
       "    <tr>\n",
       "      <th>0</th>\n",
       "      <td>39</td>\n",
       "      <td>State-gov</td>\n",
       "      <td>Bachelors</td>\n",
       "      <td>13.0</td>\n",
       "      <td>Never-married</td>\n",
       "      <td>Adm-clerical</td>\n",
       "      <td>Not-in-family</td>\n",
       "      <td>White</td>\n",
       "      <td>Male</td>\n",
       "      <td>2174.0</td>\n",
       "      <td>0.0</td>\n",
       "      <td>40.0</td>\n",
       "      <td>United-States</td>\n",
       "      <td>&lt;=50K</td>\n",
       "    </tr>\n",
       "  </tbody>\n",
       "</table>\n",
       "</div>"
      ],
      "text/plain": [
       "   age   workclass education_level  education-num  marital-status  \\\n",
       "0   39   State-gov       Bachelors           13.0   Never-married   \n",
       "\n",
       "      occupation    relationship    race    sex  capital-gain  capital-loss  \\\n",
       "0   Adm-clerical   Not-in-family   White   Male        2174.0           0.0   \n",
       "\n",
       "   hours-per-week  native-country income  \n",
       "0            40.0   United-States  <=50K  "
      ]
     },
     "metadata": {},
     "output_type": "display_data"
    }
   ],
   "source": [
    "# Import libraries necessary for this project\n",
    "import numpy as np\n",
    "import pandas as pd\n",
    "from time import time\n",
    "from IPython.display import display # Allows the use of display() for DataFrames\n",
    "\n",
    "# Import supplementary visualization code visuals.py\n",
    "import visuals as vs\n",
    "\n",
    "# Pretty display for notebooks\n",
    "%matplotlib inline\n",
    "\n",
    "# Load the Census dataset\n",
    "data = pd.read_csv(\"census.csv\")\n",
    "\n",
    "# Success - Display the first record\n",
    "display(data.head(n=1))"
   ]
  },
  {
   "cell_type": "markdown",
   "metadata": {},
   "source": [
    "### Implementation: Data Exploration\n",
    "A cursory investigation of the dataset will determine how many individuals fit into either group, and will tell us about the percentage of these individuals making more than \\$50,000. In the code cell below, you will need to compute the following:\n",
    "- The total number of records, `'n_records'`\n",
    "- The number of individuals making more than \\$50,000 annually, `'n_greater_50k'`.\n",
    "- The number of individuals making at most \\$50,000 annually, `'n_at_most_50k'`.\n",
    "- The percentage of individuals making more than \\$50,000 annually, `'greater_percent'`.\n",
    "\n",
    "**Hint:** You may need to look at the table above to understand how the `'income'` entries are formatted. "
   ]
  },
  {
   "cell_type": "code",
   "execution_count": 2,
   "metadata": {},
   "outputs": [
    {
     "name": "stdout",
     "output_type": "stream",
     "text": [
      "Total number of records: 45222\n",
      "Individuals making more than $50,000: 11208\n",
      "Individuals making at most $50,000: 34014\n",
      "Percentage of individuals making more than $50,000: 24.78%\n"
     ]
    }
   ],
   "source": [
    "# TODO: Total number of records\n",
    "n_records = len(data)\n",
    "\n",
    "# TODO: Number of records where individual's income is more than $50,000\n",
    "n_greater_50k = len(data[data['income']=='>50K'])\n",
    "\n",
    "# TODO: Number of records where individual's income is at most $50,000\n",
    "n_at_most_50k = len(data[data['income']=='<=50K'])\n",
    "\n",
    "# TODO: Percentage of individuals whose income is more than $50,000\n",
    "greater_percent = 100*float(n_greater_50k)/float(n_records)\n",
    "\n",
    "# Print the results\n",
    "print \"Total number of records: {}\".format(n_records)\n",
    "print \"Individuals making more than $50,000: {}\".format(n_greater_50k)\n",
    "print \"Individuals making at most $50,000: {}\".format(n_at_most_50k)\n",
    "print \"Percentage of individuals making more than $50,000: {:.2f}%\".format(greater_percent)"
   ]
  },
  {
   "cell_type": "markdown",
   "metadata": {},
   "source": [
    "----\n",
    "## Preparing the Data\n",
    "Before data can be used as input for machine learning algorithms, it often must be cleaned, formatted, and restructured — this is typically known as **preprocessing**. Fortunately, for this dataset, there are no invalid or missing entries we must deal with, however, there are some qualities about certain features that must be adjusted. This preprocessing can help tremendously with the outcome and predictive power of nearly all learning algorithms."
   ]
  },
  {
   "cell_type": "markdown",
   "metadata": {},
   "source": [
    "### Transforming Skewed Continuous Features\n",
    "A dataset may sometimes contain at least one feature whose values tend to lie near a single number, but will also have a non-trivial number of vastly larger or smaller values than that single number.  Algorithms can be sensitive to such distributions of values and can underperform if the range is not properly normalized. With the census dataset two features fit this description: '`capital-gain'` and `'capital-loss'`. \n",
    "\n",
    "Run the code cell below to plot a histogram of these two features. Note the range of the values present and how they are distributed."
   ]
  },
  {
   "cell_type": "code",
   "execution_count": 3,
   "metadata": {},
   "outputs": [
    {
     "data": {
      "image/png": "[encoded data removed]",
      "text/plain": [
       "<matplotlib.figure.Figure at 0x7fbad7627510>"
      ]
     },
     "metadata": {},
     "output_type": "display_data"
    }
   ],
   "source": [
    "# Split the data into features and target label\n",
    "income_raw = data['income']\n",
    "features_raw = data.drop('income', axis = 1)\n",
    "\n",
    "# Visualize skewed continuous features of original data\n",
    "vs.distribution(data)"
   ]
  },
  {
   "cell_type": "markdown",
   "metadata": {},
   "source": [
    "For highly-skewed feature distributions such as `'capital-gain'` and `'capital-loss'`, it is common practice to apply a <a href=\"https://en.wikipedia.org/wiki/Data_transformation_(statistics)\">logarithmic transformation</a> on the data so that the very large and very small values do not negatively affect the performance of a learning algorithm. Using a logarithmic transformation significantly reduces the range of values caused by outliers. Care must be taken when applying this transformation however: The logarithm of `0` is undefined, so we must translate the values by a small amount above `0` to apply the the logarithm successfully.\n",
    "\n",
    "Run the code cell below to perform a transformation on the data and visualize the results. Again, note the range of values and how they are distributed. "
   ]
  },
  {
   "cell_type": "code",
   "execution_count": 4,
   "metadata": {},
   "outputs": [
    {
     "data": {
      "image/png": "[encoded data removed]",
      "text/plain": [
       "<matplotlib.figure.Figure at 0x7fba9fd84910>"
      ]
     },
     "metadata": {},
     "output_type": "display_data"
    }
   ],
   "source": [
    "# Log-transform the skewed features\n",
    "skewed = ['capital-gain', 'capital-loss']\n",
    "features_raw[skewed] = data[skewed].apply(lambda x: np.log(x + 1))\n",
    "\n",
    "# Visualize the new log distributions\n",
    "vs.distribution(features_raw, transformed = True)"
   ]
  },
  {
   "cell_type": "markdown",
   "metadata": {},
   "source": [
    "### Normalizing Numerical Features\n",
    "In addition to performing transformations on features that are highly skewed, it is often good practice to perform some type of scaling on numerical features. Applying a scaling to the data does not change the shape of each feature's distribution (such as `'capital-gain'` or `'capital-loss'` above); however, normalization ensures that each feature is treated equally when applying supervised learners. Note that once scaling is applied, observing the data in its raw form will no longer have the same original meaning, as exampled below.\n",
    "\n",
    "Run the code cell below to normalize each numerical feature. We will use [`sklearn.preprocessing.MinMaxScaler`](http://scikit-learn.org/stable/modules/generated/sklearn.preprocessing.MinMaxScaler.html) for this."
   ]
  },
  {
   "cell_type": "code",
   "execution_count": 5,
   "metadata": {},
   "outputs": [
    {
     "data": {
      "text/html": [
       "<div>\n",
       "<style>\n",
       "    .dataframe thead tr:only-child th {\n",
       "        text-align: right;\n",
       "    }\n",
       "\n",
       "    .dataframe thead th {\n",
       "        text-align: left;\n",
       "    }\n",
       "\n",
       "    .dataframe tbody tr th {\n",
       "        vertical-align: top;\n",
       "    }\n",
       "</style>\n",
       "<table border=\"1\" class=\"dataframe\">\n",
       "  <thead>\n",
       "    <tr style=\"text-align: right;\">\n",
       "      <th></th>\n",
       "      <th>age</th>\n",
       "      <th>workclass</th>\n",
       "      <th>education_level</th>\n",
       "      <th>education-num</th>\n",
       "      <th>marital-status</th>\n",
       "      <th>occupation</th>\n",
       "      <th>relationship</th>\n",
       "      <th>race</th>\n",
       "      <th>sex</th>\n",
       "      <th>capital-gain</th>\n",
       "      <th>capital-loss</th>\n",
       "      <th>hours-per-week</th>\n",
       "      <th>native-country</th>\n",
       "    </tr>\n",
       "  </thead>\n",
       "  <tbody>\n",
       "    <tr>\n",
       "      <th>0</th>\n",
       "      <td>0.30137</td>\n",
       "      <td>State-gov</td>\n",
       "      <td>Bachelors</td>\n",
       "      <td>0.8</td>\n",
       "      <td>Never-married</td>\n",
       "      <td>Adm-clerical</td>\n",
       "      <td>Not-in-family</td>\n",
       "      <td>White</td>\n",
       "      <td>Male</td>\n",
       "      <td>0.02174</td>\n",
       "      <td>0.0</td>\n",
       "      <td>0.397959</td>\n",
       "      <td>United-States</td>\n",
       "    </tr>\n",
       "  </tbody>\n",
       "</table>\n",
       "</div>"
      ],
      "text/plain": [
       "       age   workclass education_level  education-num  marital-status  \\\n",
       "0  0.30137   State-gov       Bachelors            0.8   Never-married   \n",
       "\n",
       "      occupation    relationship    race    sex  capital-gain  capital-loss  \\\n",
       "0   Adm-clerical   Not-in-family   White   Male       0.02174           0.0   \n",
       "\n",
       "   hours-per-week  native-country  \n",
       "0        0.397959   United-States  "
      ]
     },
     "metadata": {},
     "output_type": "display_data"
    }
   ],
   "source": [
    "# Import sklearn.preprocessing.StandardScaler\n",
    "from sklearn.preprocessing import MinMaxScaler\n",
    "\n",
    "# Initialize a scaler, then apply it to the features\n",
    "scaler = MinMaxScaler()\n",
    "numerical = ['age', 'education-num', 'capital-gain', 'capital-loss', 'hours-per-week']\n",
    "features_raw[numerical] = scaler.fit_transform(data[numerical])\n",
    "\n",
    "# Show an example of a record with scaling applied\n",
    "display(features_raw.head(n = 1))"
   ]
  },
  {
   "cell_type": "markdown",
   "metadata": {},
   "source": [
    "### Implementation: Data Preprocessing\n",
    "\n",
    "From the table in **Exploring the Data** above, we can see there are several features for each record that are non-numeric. Typically, learning algorithms expect input to be numeric, which requires that non-numeric features (called *categorical variables*) be converted. One popular way to convert categorical variables is by using the **one-hot encoding** scheme. One-hot encoding creates a _\"dummy\"_ variable for each possible category of each non-numeric feature. For example, assume `someFeature` has three possible entries: `A`, `B`, or `C`. We then encode this feature into `someFeature_A`, `someFeature_B` and `someFeature_C`.\n",
    "\n",
    "|   | someFeature |                    | someFeature_A | someFeature_B | someFeature_C |\n",
    "| :-: | :-: |                            | :-: | :-: | :-: |\n",
    "| 0 |  B  |  | 0 | 1 | 0 |\n",
    "| 1 |  C  | ----> one-hot encode ----> | 0 | 0 | 1 |\n",
    "| 2 |  A  |  | 1 | 0 | 0 |\n",
    "\n",
    "Additionally, as with the non-numeric features, we need to convert the non-numeric target label, `'income'` to numerical values for the learning algorithm to work. Since there are only two possible categories for this label (\"<=50K\" and \">50K\"), we can avoid using one-hot encoding and simply encode these two categories as `0` and `1`, respectively. In code cell below, you will need to implement the following:\n",
    " - Use [`pandas.get_dummies()`](http://pandas.pydata.org/pandas-docs/stable/generated/pandas.get_dummies.html?highlight=get_dummies#pandas.get_dummies) to perform one-hot encoding on the `'features_raw'` data.\n",
    " - Convert the target label `'income_raw'` to numerical entries.\n",
    "   - Set records with \"<=50K\" to `0` and records with \">50K\" to `1`."
   ]
  },
  {
   "cell_type": "code",
   "execution_count": 6,
   "metadata": {
    "scrolled": true
   },
   "outputs": [
    {
     "name": "stdout",
     "output_type": "stream",
     "text": [
      "103 total features after one-hot encoding.\n"
     ]
    }
   ],
   "source": [
    "# TODO: One-hot encode the 'features_raw' data using pandas.get_dummies()\n",
    "features = pd.get_dummies(features_raw)\n",
    "\n",
    "# TODO: Encode the 'income_raw' data to numerical values\n",
    "income = pd.get_dummies(income_raw)\n",
    "income = pd.DataFrame((0*income['<=50K']+income['>50K']))\n",
    "income.columns = ['>50']\n",
    "# Print the number of features after one-hot encoding\n",
    "encoded = list(features.columns)\n",
    "print \"{} total features after one-hot encoding.\".format(len(encoded))\n",
    "\n",
    "# Uncomment the following line to see the encoded feature names\n",
    "#print encoded\n"
   ]
  },
  {
   "cell_type": "markdown",
   "metadata": {},
   "source": [
    "### Shuffle and Split Data\n",
    "Now all _categorical variables_ have been converted into numerical features, and all numerical features have been normalized. As always, we will now split the data (both features and their labels) into training and test sets. 80% of the data will be used for training and 20% for testing.\n",
    "\n",
    "Run the code cell below to perform this split."
   ]
  },
  {
   "cell_type": "code",
   "execution_count": 7,
   "metadata": {},
   "outputs": [
    {
     "name": "stdout",
     "output_type": "stream",
     "text": [
      "Training set has 36177 samples.\n",
      "Testing set has 9045 samples.\n"
     ]
    },
    {
     "name": "stderr",
     "output_type": "stream",
     "text": [
      "/home/atrij/miniconda2/lib/python2.7/site-packages/sklearn/cross_validation.py:44: DeprecationWarning: This module was deprecated in version 0.18 in favor of the model_selection module into which all the refactored classes and functions are moved. Also note that the interface of the new CV iterators are different from that of this module. This module will be removed in 0.20.\n",
      "  \"This module will be removed in 0.20.\", DeprecationWarning)\n"
     ]
    }
   ],
   "source": [
    "# Import train_test_split\n",
    "from sklearn.cross_validation import train_test_split\n",
    "\n",
    "# Split the 'features' and 'income' data into training and testing sets\n",
    "X_train, X_test, y_train, y_test = train_test_split(features, income, test_size = 0.2, random_state = 0)\n",
    "\n",
    "# Show the results of the split\n",
    "print \"Training set has {} samples.\".format(X_train.shape[0])\n",
    "print \"Testing set has {} samples.\".format(X_test.shape[0])\n",
    "\n"
   ]
  },
  {
   "cell_type": "markdown",
   "metadata": {},
   "source": [
    "----\n",
    "## Evaluating Model Performance\n",
    "In this section, we will investigate four different algorithms, and determine which is best at modeling the data. Three of these algorithms will be supervised learners of your choice, and the fourth algorithm is known as a *naive predictor*."
   ]
  },
  {
   "cell_type": "markdown",
   "metadata": {},
   "source": [
    "### Metrics and the Naive Predictor\n",
    "*CharityML*, equipped with their research, knows individuals that make more than \\$50,000 are most likely to donate to their charity. Because of this, *CharityML* is particularly interested in predicting who makes more than \\$50,000 accurately. It would seem that using **accuracy** as a metric for evaluating a particular model's performace would be appropriate. Additionally, identifying someone that *does not* make more than \\$50,000 as someone who does would be detrimental to *CharityML*, since they are looking to find individuals willing to donate. Therefore, a model's ability to precisely predict those that make more than \\$50,000 is *more important* than the model's ability to **recall** those individuals. We can use **F-beta score** as a metric that considers both precision and recall:\n",
    "\n",
    "$$ F_{\\beta} = (1 + \\beta^2) \\cdot \\frac{precision \\cdot recall}{\\left( \\beta^2 \\cdot precision \\right) + recall} $$\n",
    "\n",
    "In particular, when $\\beta = 0.5$, more emphasis is placed on precision. This is called the **F$_{0.5}$ score** (or F-score for simplicity).\n",
    "\n",
    "Looking at the distribution of classes (those who make at most \\$50,000, and those who make more), it's clear most individuals do not make more than \\$50,000. This can greatly affect **accuracy**, since we could simply say *\"this person does not make more than \\$50,000\"* and generally be right, without ever looking at the data! Making such a statement would be called **naive**, since we have not considered any information to substantiate the claim. It is always important to consider the *naive prediction* for your data, to help establish a benchmark for whether a model is performing well. That been said, using that prediction would be pointless: If we predicted all people made less than \\$50,000, *CharityML* would identify no one as donors. "
   ]
  },
  {
   "cell_type": "markdown",
   "metadata": {},
   "source": [
    "### Question 1 - Naive Predictor Performace\n",
    "*If we chose a model that always predicted an individual made more than \\$50,000, what would that model's accuracy and F-score be on this dataset?*  \n",
    "**Note:** You must use the code cell below and assign your results to `'accuracy'` and `'fscore'` to be used later."
   ]
  },
  {
   "cell_type": "code",
   "execution_count": 8,
   "metadata": {},
   "outputs": [
    {
     "name": "stdout",
     "output_type": "stream",
     "text": [
      "Naive Predictor: [Accuracy score: 0.2478, F-score: 0.2917]\n"
     ]
    }
   ],
   "source": [
    "# TODO: Calculate accuracy\n",
    "accuracy = float(n_greater_50k/float(n_records))\n",
    "\n",
    "# TODO: Calculate F-score using the formula above for beta = 0.5\n",
    "# recall=1 , precision = accuracy\n",
    "fscore = (1+ (0.5*0.5))*accuracy/((0.5*0.5*accuracy)+1)\n",
    "\n",
    "# Print the results \n",
    "print \"Naive Predictor: [Accuracy score: {:.4f}, F-score: {:.4f}]\".format(accuracy, fscore)"
   ]
  },
  {
   "cell_type": "markdown",
   "metadata": {},
   "source": [
    "# **Answer: ** \n",
    "***\n",
    "* **Accuracy** : 0.2478\n",
    "* **F-Score** : 0.2917\n",
    "\n",
    "*****\n"
   ]
  },
  {
   "cell_type": "markdown",
   "metadata": {},
   "source": [
    "###  Supervised Learning Models\n",
    "**The following supervised learning models are currently available in** [`scikit-learn`](http://scikit-learn.org/stable/supervised_learning.html) **that you may choose from:**\n",
    "- Gaussian Naive Bayes (GaussianNB)\n",
    "- Decision Trees\n",
    "- Ensemble Methods (Bagging, AdaBoost, Random Forest, Gradient Boosting)\n",
    "- K-Nearest Neighbors (KNeighbors)\n",
    "- Stochastic Gradient Descent Classifier (SGDC)\n",
    "- Support Vector Machines (SVM)\n",
    "- Logistic Regression"
   ]
  },
  {
   "cell_type": "markdown",
   "metadata": {},
   "source": [
    "### Question 2 - Model Application\n",
    "List three of the supervised learning models above that are appropriate for this problem that you will test on the census data. For each model chosen\n",
    "- *Describe one real-world application in industry where the model can be applied.* (You may need to do research for this — give references!)\n",
    "- *What are the strengths of the model; when does it perform well?*\n",
    "- *What are the weaknesses of the model; when does it perform poorly?*\n",
    "- *What makes this model a good candidate for the problem, given what you know about the data?*"
   ]
  },
  {
   "cell_type": "markdown",
   "metadata": {},
   "source": [
    "**Answer: **\n",
    "*****\n",
    "- <a href=\"http://rob.schapire.net/papers/explaining-adaboost.pdf\">**AdaBoost**</a>: \n",
    "    * **Real-world application** : *Real-time Face Detection*, \n",
    "        * source : <a href=\"https://pdfs.semanticscholar.or/4e54/6c43e5642ecdffd000406f0b35c1e3430a2c.pdf\">Algorithms for Real-Time Object Detection in Images </a> - by MILOS STOJMENOVIC \n",
    "    * **Strengths of the model** :\n",
    "        1. AdaBoost can achieve good classification results with much less tweaking of parameters or settings\n",
    "        2. Computationally efficient\n",
    "        3. Versatile - a wide range of base learners can be used with AdaBoost\n",
    "        4. It comes with a set of theoretical guarantees given sufficient data and a weak learner that can reliably provide only moderately accurate weak hypothese\n",
    "        5. Ability to handle Unbalanced data\n",
    "    * **When does it perform well?**:\n",
    "         1. The complexity of weak learner should sit the classification problem. Highly complex weak learner can cause overfitting.\n",
    "    * **Weaknesses of the model** :\n",
    "         * AdaBoost can be sensitive to noisy data and outliers. Reason : it is fitting a classification model (an additive model) to an exponential loss function, and the exponential loss function is sensitive to outliers/label noise.  \n",
    "    * **When does it perform poorly ?**\n",
    "         1. Boosting can fail to perform well given insufficient data\n",
    "         2. overly complex weak hypotheses\n",
    "         3. AdaBoost performance can be very poor when the weak hypotheses are insufficiently expressive\n",
    "    * **What makes this model a good candidate for the problem, given what you know about the data?**\n",
    "        * Given data has **features of mixed type (categorical and continuous)**. Boosting algorithms in general handle data of mixed type well. Hence, adaboost is a good choice\n",
    "        * Boosting algorithms work iteratively, in each next iterations the examples previously ill-classified are given more importance in minimisation of loss function of that current iteration .This property of boosting algorithms enables it to handle unbalanced data better.\n",
    "        Dateset at hand is imbalanced , '>50K' :24.78%. Also as part of construction of problem we are considering F-beta score as our metric, due to which whe interest usually leans towards correct classification of the “rare” class (which we will refer to as the “positive” class). \n",
    "******\n",
    "- **Gradient Boosting**: \n",
    "    * **Real-world application** : *EMG robotic ARM controller: building a regression model to map the EMG signals to the robotic hand controller*, \n",
    "        * source : <a href=\"https://www.ncbi.nlm.nih.gov/pmc/articles/PMC3885826/\">Gradient boosting machines, a tutorial</a>  \n",
    "    * **Strengths of the model** :\n",
    "        1. Natural handling of data of mixed type (= heterogeneous features)\n",
    "        2. Predictive power\n",
    "        3. Robustness to outliers in output space (via robust loss functions)\n",
    "        4. Handles unbalanced dataset better\n",
    "    * **When does it perform well?**:\n",
    "         1. For algorithm to work properly, an appropriate loss function is to be provided\n",
    "    * **Weaknesses of the model** :\n",
    "         * Scalability, due to the sequential nature of boosting it can hardly be parallelized\n",
    "         * Gradient bossting algorithm has many parameters to tune\n",
    "    * **When does it perform poorly ?**\n",
    "         1. Untuned GBM model performs worse than Random Forest in certain cases\n",
    "    * **What makes this model a good candidate for the problem, given what you know about the data?**\n",
    "        * Argument given for suitability of Adaboost still holds for Gradient Boost\n",
    "        * In income data there are bound to be outliers, so a robust loss function can be used in Gradient boost to overcome diificulty in classification due to outliers\n",
    "********\n",
    "- **Random Forest**: \n",
    "    * **Real-world application** : *Fault detection in Mechanical equipments*, \n",
    "        * source : <a href=\"http://www.j-mst.org/On_line/admin/files/09-08335_1716-1725_.pdf\">Random forests classifier for machine fault diagnosis  - by Bo-Suk Yang, Xiao Di and Tian Han</a>  \n",
    "    * **Strengths of the model** :\n",
    "        1.  Considering that Random Forests have few parameters to tune and can be used simply with default parameter settings, they are a simple tool to use without having a model or to produce a reasonable model fast and efficiently.\n",
    "        2. It has methods for balancing error in class population unbalanced data sets. \n",
    "        3. Parallel processing can be achieved\n",
    "        4. It runs efficiently on large databases\n",
    "        5. Random Forests perform implicit feature selection and provide a pretty good indicator of feature importance.\n",
    "        6. It’s really hard to build a bad Random Forest! Since random forests are not very sensitive to the specific hyper-parameters used, they don’t require a lot of tweaking and fiddling to get a decent model, just use a large number of trees and things won’t go terribly awry. Most Random Forest implementations have sensible defaults for the rest of the parameters.\n",
    "        7.  Random Forests can be easily grown in parallel. The same cannot be said about boosted models or large neural networks.\n",
    "\n",
    "    * **When does it perform well?**:\n",
    "         1. It works well in almost all kind of datasets.\n",
    "    * **Weaknesses of the model** :\n",
    "         1. The main drawback of Random Forests is the model size. You could easily end up with a forest that takes hundreds of megabytes of memory and is slow to evaluate.\n",
    "         2. Low interpretability of learned model as compared to decision tree\n",
    "  \n",
    "    * **When does it perform poorly ?**\n",
    "         1. They don’t do well at all when you require extrapolation outside of the range of the dependent (or independent) variables \n",
    "    * **What makes this model a good candidate for the problem, given what you know about the data?**\n",
    "        * The data provided consists of **variables of mixed type**, Random Forest can easily handle such data\n",
    "        * The number of features avialable in data is large(103).Random forest algo has **implicit feature selection** ,due to random nature of feature selection at each splitting node. Hence, while using RF we dont need to implement feature selection step.\n",
    "        * The data collected can have much outliers, rationale behind this assertion is, that there are certain individuals who beat the odds . Consider the following example\n",
    "       *****\n",
    "       Ex. consider just the following attribute/traits of a random person X:\n",
    "            - Studied upto 4th\n",
    "            - Age:20\n",
    "            - income : 62000\n",
    "       ****\n",
    "      Using common understanding of how world works it's reasonable to say that, there won't be many people having same atrributes as that of X and earning more than 50K. Most of such people would be earning less than 50K. Hence this sample can be considered outliers. Such cases are present in a plenty in the dataset (look at the illustration below). \n",
    "      Random forest resamples data for training its constituent trees, this nature in algorithms provides robustness towards outliers.\n",
    "      "
   ]
  },
  {
   "cell_type": "markdown",
   "metadata": {},
   "source": [
    "### Illustration of outliers in data\n",
    " ##### Case 1 ( low education-high income):\n",
    "  A person having less education would certainly be considered an outlier if he is earning more than 50 K. Below a count of 31 is obtained for people having education-num less than 4 and belonging to higher income group"
   ]
  },
  {
   "cell_type": "code",
   "execution_count": 26,
   "metadata": {},
   "outputs": [
    {
     "name": "stdout",
     "output_type": "stream",
     "text": [
      "count of people with educatio-num less than 4 (very less educated) earning more than 50K: 31\n"
     ]
    },
    {
     "name": "stderr",
     "output_type": "stream",
     "text": [
      "/home/atrij/miniconda2/lib/python2.7/site-packages/ipykernel_launcher.py:1: UserWarning: Boolean Series key will be reindexed to match DataFrame index.\n",
      "  \"\"\"Entry point for launching an IPython kernel.\n"
     ]
    }
   ],
   "source": [
    "print 'count of people with educatio-num less than 4 (very less educated) earning more than 50K:',data[data['income'] == '>50K'][data['education-num']<4].count()[0]"
   ]
  },
  {
   "cell_type": "markdown",
   "metadata": {},
   "source": [
    " ##### Case 2 ( Low age-high income):\n",
    "  A person having age in early 20's would certainly be considered an outlier if he is earning more than 50 K. Below a count of 24 is obtained for people having age less than 23 and belonging to higher income group."
   ]
  },
  {
   "cell_type": "code",
   "execution_count": 25,
   "metadata": {},
   "outputs": [
    {
     "name": "stdout",
     "output_type": "stream",
     "text": [
      "count of people with educatio-num less than 4 (very less educated) earning more than 50K: 24\n"
     ]
    },
    {
     "name": "stderr",
     "output_type": "stream",
     "text": [
      "/home/atrij/miniconda2/lib/python2.7/site-packages/ipykernel_launcher.py:1: UserWarning: Boolean Series key will be reindexed to match DataFrame index.\n",
      "  \"\"\"Entry point for launching an IPython kernel.\n"
     ]
    }
   ],
   "source": [
    "a= len(data[data['income'] == '>50K'][data['age']<23].index)\n",
    "print 'count of people with educatio-num less than 4 (very less educated) earning more than 50K:',a"
   ]
  },
  {
   "cell_type": "markdown",
   "metadata": {},
   "source": [
    "### Implementation - Creating a Training and Predicting Pipeline\n",
    "To properly evaluate the performance of each model you've chosen, it's important that you create a training and predicting pipeline that allows you to quickly and effectively train models using various sizes of training data and perform predictions on the testing data. Your implementation here will be used in the following section.\n",
    "In the code block below, you will need to implement the following:\n",
    " - Import `fbeta_score` and `accuracy_score` from [`sklearn.metrics`](http://scikit-learn.org/stable/modules/classes.html#sklearn-metrics-metrics).\n",
    " - Fit the learner to the sampled training data and record the training time.\n",
    " - Perform predictions on the test data `X_test`, and also on the first 300 training points `X_train[:300]`.\n",
    "   - Record the total prediction time.\n",
    " - Calculate the accuracy score for both the training subset and testing set.\n",
    " - Calculate the F-score for both the training subset and testing set.\n",
    "   - Make sure that you set the `beta` parameter!"
   ]
  },
  {
   "cell_type": "code",
   "execution_count": 9,
   "metadata": {
    "collapsed": true
   },
   "outputs": [],
   "source": [
    "from sklearn.metrics import accuracy_score\n",
    "from sklearn.metrics import fbeta_score\n",
    "def train_predict(learner, sample_size, X_train, y_train, X_test, y_test): \n",
    "    '''\n",
    "    inputs:\n",
    "       - learner: the learning algorithm to be trained and predicted on\n",
    "       - sample_size: the size of samples (number) to be drawn from training set\n",
    "       - X_train: features training set\n",
    "       - y_train: income training set\n",
    "       - X_test: features testing set\n",
    "       - y_test: income testing set\n",
    "    '''\n",
    "    \n",
    "    results = {}\n",
    "    \n",
    "    # TODO: Fit the learner to the training data using slicing with 'sample_size'\n",
    "    start = time() # Get start time\n",
    "    learner = learner.fit(X_train[0:sample_size],y_train[0:sample_size])\n",
    "    end = time() # Get end time\n",
    "    \n",
    "    # TODO: Calculate the training time\n",
    "    results['train_time'] = end-start\n",
    "        \n",
    "    # TODO: Get the predictions on the test set,\n",
    "    #       then get predictions on the first 300 training samples\n",
    "    start = time() # Get start time\n",
    "    predictions_test = learner.predict(X_test)\n",
    "    predictions_train = learner.predict(X_train[0:300])\n",
    "    end = time() # Get end time\n",
    "    \n",
    "    # TODO: Calculate the total prediction time\n",
    "    results['pred_time'] = end-start\n",
    "            \n",
    "    # TODO: Compute accuracy on the first 300 training samples\n",
    "    results['acc_train'] = accuracy_score(y_train[0:300],predictions_train)\n",
    "        \n",
    "    # TODO: Compute accuracy on test set\n",
    "    results['acc_test'] = accuracy_score(y_test,predictions_test)\n",
    "    \n",
    "    # TODO: Compute F-score on the the first 300 training samples\n",
    "    results['f_train'] = fbeta_score(y_train[0:300],predictions_train,beta=0.5)\n",
    "        \n",
    "    # TODO: Compute F-score on the test set\n",
    "    results['f_test'] = fbeta_score(y_test,predictions_test,beta=0.5)\n",
    "       \n",
    "    # Success\n",
    "    print \"{} trained on {} samples.\".format(learner.__class__.__name__, sample_size)\n",
    "        \n",
    "    # Return the results\n",
    "    return results"
   ]
  },
  {
   "cell_type": "markdown",
   "metadata": {},
   "source": [
    "### Implementation: Initial Model Evaluation\n",
    "In the code cell, you will need to implement the following:\n",
    "- Import the three supervised learning models you've discussed in the previous section.\n",
    "- Initialize the three models and store them in `'clf_A'`, `'clf_B'`, and `'clf_C'`.\n",
    "  - Use a `'random_state'` for each model you use, if provided.\n",
    "  - **Note:** Use the default settings for each model — you will tune one specific model in a later section.\n",
    "- Calculate the number of records equal to 1%, 10%, and 100% of the training data.\n",
    "  - Store those values in `'samples_1'`, `'samples_10'`, and `'samples_100'` respectively.\n",
    "\n",
    "**Note:** Depending on which algorithms you chose, the following implementation may take some time to run!"
   ]
  },
  {
   "cell_type": "code",
   "execution_count": 10,
   "metadata": {
    "collapsed": true
   },
   "outputs": [],
   "source": [
    "rand=10"
   ]
  },
  {
   "cell_type": "code",
   "execution_count": 11,
   "metadata": {},
   "outputs": [
    {
     "name": "stderr",
     "output_type": "stream",
     "text": [
      "/home/atrij/miniconda2/lib/python2.7/site-packages/sklearn/utils/validation.py:526: DataConversionWarning: A column-vector y was passed when a 1d array was expected. Please change the shape of y to (n_samples, ), for example using ravel().\n",
      "  y = column_or_1d(y, warn=True)\n"
     ]
    },
    {
     "name": "stdout",
     "output_type": "stream",
     "text": [
      "AdaBoostClassifier trained on 361 samples.\n",
      "AdaBoostClassifier trained on 3617 samples.\n",
      "AdaBoostClassifier trained on 36177 samples.\n",
      "RandomForestClassifier trained on 361 samples.\n",
      "RandomForestClassifier trained on 3617 samples.\n"
     ]
    },
    {
     "name": "stderr",
     "output_type": "stream",
     "text": [
      "/home/atrij/miniconda2/lib/python2.7/site-packages/ipykernel_launcher.py:18: DataConversionWarning: A column-vector y was passed when a 1d array was expected. Please change the shape of y to (n_samples,), for example using ravel().\n"
     ]
    },
    {
     "name": "stdout",
     "output_type": "stream",
     "text": [
      "RandomForestClassifier trained on 36177 samples.\n",
      "GradientBoostingClassifier trained on 361 samples.\n",
      "GradientBoostingClassifier trained on 3617 samples.\n",
      "GradientBoostingClassifier trained on 36177 samples.\n"
     ]
    },
    {
     "data": {
      "image/png": "[encoded data removed]",
      "text/plain": [
       "<matplotlib.figure.Figure at 0x7fba9f811250>"
      ]
     },
     "metadata": {},
     "output_type": "display_data"
    }
   ],
   "source": [
    "from sklearn.ensemble import AdaBoostClassifier\n",
    "from sklearn.ensemble import RandomForestClassifier\n",
    "from sklearn.ensemble import GradientBoostingClassifier\n",
    "\n",
    "# TODO: Initialize the three models\n",
    "clf_A = AdaBoostClassifier(random_state=rand)\n",
    "clf_B = RandomForestClassifier(random_state=rand)\n",
    "clf_C = GradientBoostingClassifier(random_state=rand)\n",
    "\n",
    "# TODO: Calculate the number of samples for 1%, 10%, and 100% of the training data\n",
    "samples_1 = int(0.01*len(X_train))\n",
    "samples_10 = int(0.1*len(X_train))\n",
    "samples_100 = int(1*len(X_train))\n",
    "\n",
    "# Collect results on the learners\n",
    "results = {}\n",
    "for clf in [clf_A, clf_B, clf_C]:\n",
    "    clf_name = clf.__class__.__name__\n",
    "    results[clf_name] = {}\n",
    "    for i, samples in enumerate([samples_1, samples_10, samples_100]):\n",
    "        results[clf_name][i] = \\\n",
    "        train_predict(clf, samples, X_train, y_train, X_test, y_test)\n",
    "\n",
    "# Run metrics visualization for the three supervised learning models chosen\n",
    "vs.evaluate(results, accuracy, fscore)"
   ]
  },
  {
   "cell_type": "code",
   "execution_count": 19,
   "metadata": {},
   "outputs": [
    {
     "name": "stdout",
     "output_type": "stream",
     "text": [
      "{'pred_time': 0.13572096824645996, 'f_test': 0.72455089820359275, 'train_time': 2.870043992996216, 'acc_train': 0.84999999999999998, 'acc_test': 0.85760088446655613, 'f_train': 0.71153846153846156}\n"
     ]
    }
   ],
   "source": [
    "print results['AdaBoostClassifier'][2]\n"
   ]
  },
  {
   "cell_type": "code",
   "execution_count": 12,
   "metadata": {},
   "outputs": [
    {
     "name": "stdout",
     "output_type": "stream",
     "text": [
      "{0: {'pred_time': 0.02654290199279785, 'f_test': 0.65833785985877247, 'train_time': 0.09194016456604004, 'acc_train': 0.93999999999999995, 'acc_test': 0.83073521282476503, 'f_train': 0.9375}, 1: {'pred_time': 0.027151107788085938, 'f_test': 0.72160405420293039, 'train_time': 0.8645949363708496, 'acc_train': 0.8833333333333333, 'acc_test': 0.85594250967385299, 'f_train': 0.81349206349206349}, 2: {'pred_time': 0.035676002502441406, 'f_test': 0.7395338561802719, 'train_time': 11.631297826766968, 'acc_train': 0.85666666666666669, 'acc_test': 0.86301824212271971, 'f_train': 0.73412698412698407}}\n"
     ]
    }
   ],
   "source": [
    "print results['GradientBoostingClassifier']"
   ]
  },
  {
   "cell_type": "code",
   "execution_count": 13,
   "metadata": {},
   "outputs": [
    {
     "name": "stdout",
     "output_type": "stream",
     "text": [
      "{0: {'pred_time': 0.028018951416015625, 'f_test': 0.61630447280671496, 'train_time': 0.03068399429321289, 'acc_train': 0.97333333333333338, 'acc_test': 0.81381978993919291, 'f_train': 0.96726190476190466}, 1: {'pred_time': 0.03474903106689453, 'f_test': 0.65564858105904111, 'train_time': 0.061698198318481445, 'acc_train': 0.99333333333333329, 'acc_test': 0.82962962962962961, 'f_train': 0.99431818181818166}, 2: {'pred_time': 0.04699206352233887, 'f_test': 0.67075022780196425, 'train_time': 0.6802561283111572, 'acc_train': 0.96333333333333337, 'acc_test': 0.83714759535655059, 'f_train': 0.94117647058823517}}\n"
     ]
    }
   ],
   "source": [
    "print results['RandomForestClassifier']"
   ]
  },
  {
   "cell_type": "markdown",
   "metadata": {},
   "source": [
    "----\n",
    "## Improving Results\n",
    "In this final section, you will choose from the three supervised learning models the *best* model to use on the student data. You will then perform a grid search optimization for the model over the entire training set (`X_train` and `y_train`) by tuning at least one parameter to improve upon the untuned model's F-score. "
   ]
  },
  {
   "cell_type": "markdown",
   "metadata": {},
   "source": [
    "### Question 3 - Choosing the Best Model\n",
    "*Based on the evaluation you performed earlier, in one to two paragraphs, explain to *CharityML* which of the three models you believe to be most appropriate for the task of identifying individuals that make more than \\$50,000.*  \n",
    "**Hint:** Your answer should include discussion of the metrics, prediction/training time, and the algorithm's suitability for the data."
   ]
  },
  {
   "cell_type": "markdown",
   "metadata": {},
   "source": [
    "**Answer: **\n",
    "***\n",
    "**Gradient Boosting Classifier** is most appropriate for the task of identifying individuals that make more than dollar 50,000\n",
    "\n",
    "* **Model Performance** : The metric used to measure model performance is Fbeta score with Beta=0.5 , hence placing more importance on precision, as model's ability to precisely predict those that make more than dollar 50,000 is more important than the model's ability to recall those individuals. For Gradient Boosting Classifier F_beta score is **73.95%**.\n",
    "\n",
    "* **Prediction/Training Time** : \n",
    "    * **Training time** : Training time is **14.31**  seconds, higher than other classifiers considered. But, for the required application training time doesn't matter much as it's to be done once as training data is fixed\n",
    "    * **Prediction Time** : Prediction time is **0.036** seconds for 300 examples, which significantly lower than other classifiers. Low prediction time is important for the application at hand as suitable donors are to be selected from a vast database of potential people. So a quick predictor would make the process of selection fast.\n",
    "\n",
    "* **Generalisation** : It can be seen that, RF is producing high scores on Training and low on Test, this means its overfitting. While Gradient boost has comparable test and train scores, indicating that it gneralises well\n",
    "\n",
    "* **Size of Training Set** : On comparing the model performance in case of 1%, 10% and 100% training data case. It is observed that Fscore on test data hasn't increased much from 10% to 100% case ( by about 0.01). Therefore, it indicates that we are working with appropriate data-size.\n",
    "\n",
    "\n",
    "* **Algorithm's suitability for the data** : \n",
    "    * Robustness to outliers : Gradient boosting is robust to outliers as it uses loss function. In the data provided there are several outliers. There are cases where the occupation type doesn't match the income people are generating. Ex. for ccupation = \"handlers and cleaners\" most people earn less than 50K which also quite natural, but data shows there are 135 people earning more than 50K with above mentioned occupation (reffer the cell below)\n",
    "    * Natural handling of data of mixed type : The data provided has festures of mixed datatype ( categorical + real valued). The algorithm suggested has natural handling power for mixed data types\n",
    "    \n",
    "    \n",
    "    "
   ]
  },
  {
   "cell_type": "markdown",
   "metadata": {},
   "source": [
    "### Question 4 - Describing the Model in Layman's Terms\n",
    "*In one to two paragraphs, explain to *CharityML*, in layman's terms, how the final model chosen is supposed to work. Be sure that you are describing the major qualities of the model, such as how the model is trained and how the model makes a prediction. Avoid using advanced mathematical or technical jargon, such as describing equations or discussing the algorithm implementation.*"
   ]
  },
  {
   "cell_type": "markdown",
   "metadata": {},
   "source": [
    "**Answer: ** \n",
    "****\n",
    "Model consists of following procedural elements performed sequencially,:\n",
    "1. **Data-preprocessing** : The data , that is provided,is to re-conditioned to suit the internal machinery of the learning and decision making engine of model. Data-preprocessing step performs this reconditioning. \n",
    "3. **Training Gradient Boosting Classifier**: Once the data is re-conditioned, it can be used to train the learner.\n",
    "    * *how the model is trained?* : A GBM learns multiple weak capability models. By weak capability it's meant that these learners are slightly better in accuracy than random guessing. Ex. consider a binary classification problem. By random guessing we can obtain error rate of 50%. Suppose we have a learner that learns an error rate of 40%. Such a learner is slightly better than random guessing. The methodology used by GBM to learn these weak learners is what makes GBM training special. \n",
    "    GBM learns a weak learner in first iteration, then analyses the error obtained with respect to this model. The residual obtained after first step is then used to fit another model that fits the residuals. Each of these models are then added after multiplication with necessary weights. This additive model is new model, now residuals are again computer and so on \n",
    "4. **Prediction using trained model on unseen data** : The final prediction is made by weighted average of prediction made by each individual models  constituent of the additive model discussed above\n",
    "\n"
   ]
  },
  {
   "cell_type": "markdown",
   "metadata": {},
   "source": [
    "### Implementation: Model Tuning\n",
    "Fine tune the chosen model. Use grid search (`GridSearchCV`) with at least one important parameter tuned with at least 3 different values. You will need to use the entire training set for this. In the code cell below, you will need to implement the following:\n",
    "- Import [`sklearn.grid_search.GridSearchCV`](http://scikit-learn.org/0.17/modules/generated/sklearn.grid_search.GridSearchCV.html) and [`sklearn.metrics.make_scorer`](http://scikit-learn.org/stable/modules/generated/sklearn.metrics.make_scorer.html).\n",
    "- Initialize the classifier you've chosen and store it in `clf`.\n",
    " - Set a `random_state` if one is available to the same state you set before.\n",
    "- Create a dictionary of parameters you wish to tune for the chosen model.\n",
    " - Example: `parameters = {'parameter' : [list of values]}`.\n",
    " - **Note:** Avoid tuning the `max_features` parameter of your learner if that parameter is available!\n",
    "- Use `make_scorer` to create an `fbeta_score` scoring object (with $\\beta = 0.5$).\n",
    "- Perform grid search on the classifier `clf` using the `'scorer'`, and store it in `grid_obj`.\n",
    "- Fit the grid search object to the training data (`X_train`, `y_train`), and store it in `grid_fit`.\n",
    "\n",
    "**Note:** Depending on the algorithm chosen and the parameter list, the following implementation may take some time to run!"
   ]
  },
  {
   "cell_type": "code",
   "execution_count": 18,
   "metadata": {
    "collapsed": true
   },
   "outputs": [],
   "source": [
    "# converting y_train to pandas series so that crossvalidation function doesn't pop index error\n",
    "y_train=y_train['>50']"
   ]
  },
  {
   "cell_type": "markdown",
   "metadata": {},
   "source": [
    "** Grid Search Strategy**\n",
    "*****\n",
    "using the approach provided in blog *https://www.analyticsvidhya.com/blog/2016/02/complete-guide-parameter-tuning-gradient-boosting-gbm-python/* for tuning of gradient boosting machines\n",
    "*****\n",
    "In GBM boosting there are 2 categories of parameters that are to be tuned:\n",
    "* **Boosting machine parameters** : n_estimators, learning_rate, sub_sample\n",
    "* **Tree parameters** : max_depth, min_sample_split, max_features\n",
    "*******\n",
    "Approach for tackling the problem:\n",
    "1. Decide a relatively higher value for learning rate and tune the number of estimators requried for that\n",
    "2. Tune the tree specific parameters for that learning rate\n",
    "3. Tune subsample\n",
    "4. Lower learning rate as much as possible computationally and increase the number of estimators accordingly\n",
    "\n"
   ]
  },
  {
   "cell_type": "code",
   "execution_count": 23,
   "metadata": {},
   "outputs": [
    {
     "name": "stdout",
     "output_type": "stream",
     "text": [
      "Fitting 3 folds for each of 18 candidates, totalling 54 fits\n",
      "[CV] n_estimators=220 ................................................\n",
      "[CV] ....................... n_estimators=220, score=0.743749 -   7.6s\n",
      "[CV] n_estimators=220 ................................................\n"
     ]
    },
    {
     "name": "stderr",
     "output_type": "stream",
     "text": [
      "[Parallel(n_jobs=1)]: Done   1 out of   1 | elapsed:    7.6s remaining:    0.0s\n"
     ]
    },
    {
     "name": "stdout",
     "output_type": "stream",
     "text": [
      "[CV] ....................... n_estimators=220, score=0.742488 -   8.3s\n",
      "[CV] n_estimators=220 ................................................\n"
     ]
    },
    {
     "name": "stderr",
     "output_type": "stream",
     "text": [
      "[Parallel(n_jobs=1)]: Done   2 out of   2 | elapsed:   16.0s remaining:    0.0s\n"
     ]
    },
    {
     "name": "stdout",
     "output_type": "stream",
     "text": [
      "[CV] ....................... n_estimators=220, score=0.747693 -   7.6s\n",
      "[CV] n_estimators=230 ................................................\n"
     ]
    },
    {
     "name": "stderr",
     "output_type": "stream",
     "text": [
      "[Parallel(n_jobs=1)]: Done   3 out of   3 | elapsed:   23.5s remaining:    0.0s\n"
     ]
    },
    {
     "name": "stdout",
     "output_type": "stream",
     "text": [
      "[CV] ....................... n_estimators=230, score=0.743054 -   8.1s\n",
      "[CV] n_estimators=230 ................................................\n"
     ]
    },
    {
     "name": "stderr",
     "output_type": "stream",
     "text": [
      "[Parallel(n_jobs=1)]: Done   4 out of   4 | elapsed:   31.6s remaining:    0.0s\n"
     ]
    },
    {
     "name": "stdout",
     "output_type": "stream",
     "text": [
      "[CV] ....................... n_estimators=230, score=0.745850 -   7.8s\n",
      "[CV] n_estimators=230 ................................................\n",
      "[CV] ....................... n_estimators=230, score=0.749942 -   8.1s\n",
      "[CV] n_estimators=240 ................................................\n",
      "[CV] ....................... n_estimators=240, score=0.742604 -   8.3s\n",
      "[CV] n_estimators=240 ................................................\n",
      "[CV] ....................... n_estimators=240, score=0.744778 -   8.2s\n",
      "[CV] n_estimators=240 ................................................\n",
      "[CV] ....................... n_estimators=240, score=0.750097 -   8.3s\n",
      "[CV] n_estimators=250 ................................................\n",
      "[CV] ....................... n_estimators=250, score=0.742972 -   8.0s\n",
      "[CV] n_estimators=250 ................................................\n",
      "[CV] ....................... n_estimators=250, score=0.743792 -   8.1s\n",
      "[CV] n_estimators=250 ................................................\n",
      "[CV] ....................... n_estimators=250, score=0.751105 -   8.1s\n",
      "[CV] n_estimators=260 ................................................\n",
      "[CV] ....................... n_estimators=260, score=0.743586 -   8.2s\n",
      "[CV] n_estimators=260 ................................................\n",
      "[CV] ....................... n_estimators=260, score=0.743667 -   7.9s\n",
      "[CV] n_estimators=260 ................................................\n",
      "[CV] ....................... n_estimators=260, score=0.751568 -   7.8s\n",
      "[CV] n_estimators=270 ................................................\n",
      "[CV] ....................... n_estimators=270, score=0.744317 -   8.4s\n",
      "[CV] n_estimators=270 ................................................\n",
      "[CV] ....................... n_estimators=270, score=0.744045 -   7.7s\n",
      "[CV] n_estimators=270 ................................................\n",
      "[CV] ....................... n_estimators=270, score=0.749245 -   7.4s\n",
      "[CV] n_estimators=280 ................................................\n",
      "[CV] ....................... n_estimators=280, score=0.744866 -   8.9s\n",
      "[CV] n_estimators=280 ................................................\n",
      "[CV] ....................... n_estimators=280, score=0.743596 -   8.3s\n",
      "[CV] n_estimators=280 ................................................\n",
      "[CV] ....................... n_estimators=280, score=0.751103 -   8.8s\n",
      "[CV] n_estimators=290 ................................................\n",
      "[CV] ....................... n_estimators=290, score=0.744504 -   8.8s\n",
      "[CV] n_estimators=290 ................................................\n",
      "[CV] ....................... n_estimators=290, score=0.742332 -   9.0s\n",
      "[CV] n_estimators=290 ................................................\n",
      "[CV] ....................... n_estimators=290, score=0.749326 -   9.7s\n",
      "[CV] n_estimators=300 ................................................\n",
      "[CV] ....................... n_estimators=300, score=0.745405 -   8.6s\n",
      "[CV] n_estimators=300 ................................................\n",
      "[CV] ....................... n_estimators=300, score=0.741355 -   8.5s\n",
      "[CV] n_estimators=300 ................................................\n",
      "[CV] ....................... n_estimators=300, score=0.750711 -   8.3s\n",
      "[CV] n_estimators=310 ................................................\n",
      "[CV] ....................... n_estimators=310, score=0.743442 -   8.7s\n",
      "[CV] n_estimators=310 ................................................\n",
      "[CV] ....................... n_estimators=310, score=0.743371 -   9.0s\n",
      "[CV] n_estimators=310 ................................................\n",
      "[CV] ....................... n_estimators=310, score=0.750944 -   9.9s\n",
      "[CV] n_estimators=320 ................................................\n",
      "[CV] ....................... n_estimators=320, score=0.745012 -  10.8s\n",
      "[CV] n_estimators=320 ................................................\n",
      "[CV] ....................... n_estimators=320, score=0.742320 -  10.8s\n",
      "[CV] n_estimators=320 ................................................\n",
      "[CV] ....................... n_estimators=320, score=0.752097 -   9.6s\n",
      "[CV] n_estimators=330 ................................................\n",
      "[CV] ....................... n_estimators=330, score=0.745777 -  11.2s\n",
      "[CV] n_estimators=330 ................................................\n",
      "[CV] ....................... n_estimators=330, score=0.741884 -   9.3s\n",
      "[CV] n_estimators=330 ................................................\n",
      "[CV] ....................... n_estimators=330, score=0.750636 -   9.3s\n",
      "[CV] n_estimators=340 ................................................\n",
      "[CV] ....................... n_estimators=340, score=0.747432 -  10.8s\n",
      "[CV] n_estimators=340 ................................................\n",
      "[CV] ....................... n_estimators=340, score=0.744054 -   9.5s\n",
      "[CV] n_estimators=340 ................................................\n",
      "[CV] ....................... n_estimators=340, score=0.751025 -   9.4s\n",
      "[CV] n_estimators=350 ................................................\n",
      "[CV] ....................... n_estimators=350, score=0.746387 -  10.0s\n",
      "[CV] n_estimators=350 ................................................\n",
      "[CV] ....................... n_estimators=350, score=0.741533 -  10.6s\n",
      "[CV] n_estimators=350 ................................................\n",
      "[CV] ....................... n_estimators=350, score=0.752106 -  10.7s\n",
      "[CV] n_estimators=360 ................................................\n",
      "[CV] ....................... n_estimators=360, score=0.746376 -  10.4s\n",
      "[CV] n_estimators=360 ................................................\n",
      "[CV] ....................... n_estimators=360, score=0.742730 -  11.1s\n",
      "[CV] n_estimators=360 ................................................\n",
      "[CV] ....................... n_estimators=360, score=0.752022 -  10.2s\n",
      "[CV] n_estimators=370 ................................................\n",
      "[CV] ....................... n_estimators=370, score=0.748807 -  11.2s\n",
      "[CV] n_estimators=370 ................................................\n",
      "[CV] ....................... n_estimators=370, score=0.741145 -  10.4s\n",
      "[CV] n_estimators=370 ................................................\n",
      "[CV] ....................... n_estimators=370, score=0.753635 -  11.7s\n",
      "[CV] n_estimators=380 ................................................\n",
      "[CV] ....................... n_estimators=380, score=0.748353 -  12.1s\n",
      "[CV] n_estimators=380 ................................................\n",
      "[CV] ....................... n_estimators=380, score=0.741381 -  12.0s\n",
      "[CV] n_estimators=380 ................................................\n",
      "[CV] ....................... n_estimators=380, score=0.754026 -  11.0s\n",
      "[CV] n_estimators=390 ................................................\n",
      "[CV] ....................... n_estimators=390, score=0.749109 -  10.9s\n",
      "[CV] n_estimators=390 ................................................\n",
      "[CV] ....................... n_estimators=390, score=0.740991 -  11.0s\n",
      "[CV] n_estimators=390 ................................................\n",
      "[CV] ....................... n_estimators=390, score=0.752949 -  10.8s\n"
     ]
    },
    {
     "name": "stderr",
     "output_type": "stream",
     "text": [
      "[Parallel(n_jobs=1)]: Done  54 out of  54 | elapsed:  8.4min finished\n"
     ]
    },
    {
     "name": "stdout",
     "output_type": "stream",
     "text": [
      "Unoptimized model\n",
      "------\n",
      "Accuracy score on testing data: 0.8637\n",
      "F-score on testing data: 0.7379\n",
      "\n",
      "Optimized Model\n",
      "------\n",
      "Final accuracy score on the testing data: 0.8705\n",
      "Final F-score on the testing data: 0.7515\n"
     ]
    }
   ],
   "source": [
    "#step:1\n",
    "\n",
    "# tuning number of estimators\n",
    "\n",
    "from sklearn.grid_search import GridSearchCV\n",
    "from sklearn.metrics import make_scorer\n",
    "from sklearn.metrics import fbeta_score\n",
    "from sklearn.ensemble import GradientBoostingClassifier\n",
    "# TODO: Initialize the classifier\n",
    "clf = GradientBoostingClassifier(learning_rate=0.15, max_depth=5, min_samples_split= 90, min_samples_leaf=50, \n",
    "                                 max_features=\"sqrt\",subsample=0.8,random_state=rand)\n",
    "\n",
    "# TODO: Create the parameters list you wish to tune\n",
    "parameters = {'n_estimators':range(220,400,10)}   # choosing a range of n_estimators from 220 to 400 with step size 10\n",
    "\n",
    "# TODO: Make an fbeta_score scoring object\n",
    "scorer = make_scorer(fbeta_score,beta=0.5)\n",
    "\n",
    "# TODO: Perform grid search on the classifier using 'scorer' as the scoring method\n",
    "grid_obj = GridSearchCV(clf,parameters,scoring=scorer,verbose=5)\n",
    "\n",
    "\n",
    "# TODO: Fit the grid search object to the training data and find the optimal parameters\n",
    "grid_fit = grid_obj.fit(X_train,y_train)\n",
    "\n",
    "# Get the estimator\n",
    "best_clf = grid_fit.best_estimator_\n",
    "\n",
    "# Make predictions using the unoptimized and model\n",
    "predictions = (clf.fit(X_train, y_train)).predict(X_test)\n",
    "best_predictions = best_clf.predict(X_test)\n",
    "\n",
    "# Report the before-and-afterscores\n",
    "print \"Unoptimized model\\n------\"\n",
    "print \"Accuracy score on testing data: {:.4f}\".format(accuracy_score(y_test, predictions))\n",
    "print \"F-score on testing data: {:.4f}\".format(fbeta_score(y_test, predictions, beta = 0.5))\n",
    "print \"\\nOptimized Model\\n------\"\n",
    "print \"Final accuracy score on the testing data: {:.4f}\".format(accuracy_score(y_test, best_predictions))\n",
    "print \"Final F-score on the testing data: {:.4f}\".format(fbeta_score(y_test, best_predictions, beta = 0.5))"
   ]
  },
  {
   "cell_type": "markdown",
   "metadata": {},
   "source": [
    "## result after step-1##\n",
    "n_estimators = **380**"
   ]
  },
  {
   "cell_type": "code",
   "execution_count": 26,
   "metadata": {},
   "outputs": [
    {
     "name": "stdout",
     "output_type": "stream",
     "text": [
      "Fitting 3 folds for each of 35 candidates, totalling 105 fits\n",
      "[CV] min_samples_split=50, max_depth=5 ...............................\n",
      "[CV] ...... min_samples_split=50, max_depth=5, score=0.748353 -  10.6s\n",
      "[CV] min_samples_split=50, max_depth=5 ...............................\n"
     ]
    },
    {
     "name": "stderr",
     "output_type": "stream",
     "text": [
      "[Parallel(n_jobs=1)]: Done   1 out of   1 | elapsed:   10.6s remaining:    0.0s\n"
     ]
    },
    {
     "name": "stdout",
     "output_type": "stream",
     "text": [
      "[CV] ...... min_samples_split=50, max_depth=5, score=0.741381 -  10.4s\n",
      "[CV] min_samples_split=50, max_depth=5 ...............................\n"
     ]
    },
    {
     "name": "stderr",
     "output_type": "stream",
     "text": [
      "[Parallel(n_jobs=1)]: Done   2 out of   2 | elapsed:   21.0s remaining:    0.0s\n"
     ]
    },
    {
     "name": "stdout",
     "output_type": "stream",
     "text": [
      "[CV] ...... min_samples_split=50, max_depth=5, score=0.754026 -  10.7s\n",
      "[CV] min_samples_split=90, max_depth=5 ...............................\n"
     ]
    },
    {
     "name": "stderr",
     "output_type": "stream",
     "text": [
      "[Parallel(n_jobs=1)]: Done   3 out of   3 | elapsed:   31.7s remaining:    0.0s\n"
     ]
    },
    {
     "name": "stdout",
     "output_type": "stream",
     "text": [
      "[CV] ...... min_samples_split=90, max_depth=5, score=0.748353 -  11.0s\n",
      "[CV] min_samples_split=90, max_depth=5 ...............................\n"
     ]
    },
    {
     "name": "stderr",
     "output_type": "stream",
     "text": [
      "[Parallel(n_jobs=1)]: Done   4 out of   4 | elapsed:   42.7s remaining:    0.0s\n"
     ]
    },
    {
     "name": "stdout",
     "output_type": "stream",
     "text": [
      "[CV] ...... min_samples_split=90, max_depth=5, score=0.741381 -  10.6s\n",
      "[CV] min_samples_split=90, max_depth=5 ...............................\n",
      "[CV] ...... min_samples_split=90, max_depth=5, score=0.754026 -  10.3s\n",
      "[CV] min_samples_split=130, max_depth=5 ..............................\n",
      "[CV] ..... min_samples_split=130, max_depth=5, score=0.746839 -  10.4s\n",
      "[CV] min_samples_split=130, max_depth=5 ..............................\n",
      "[CV] ..... min_samples_split=130, max_depth=5, score=0.741171 -  11.3s\n",
      "[CV] min_samples_split=130, max_depth=5 ..............................\n",
      "[CV] ..... min_samples_split=130, max_depth=5, score=0.753435 -  11.8s\n",
      "[CV] min_samples_split=170, max_depth=5 ..............................\n",
      "[CV] ..... min_samples_split=170, max_depth=5, score=0.746524 -  10.4s\n",
      "[CV] min_samples_split=170, max_depth=5 ..............................\n",
      "[CV] ..... min_samples_split=170, max_depth=5, score=0.744665 -  10.8s\n",
      "[CV] min_samples_split=170, max_depth=5 ..............................\n",
      "[CV] ..... min_samples_split=170, max_depth=5, score=0.753103 -  11.4s\n",
      "[CV] min_samples_split=210, max_depth=5 ..............................\n",
      "[CV] ..... min_samples_split=210, max_depth=5, score=0.751752 -  10.4s\n",
      "[CV] min_samples_split=210, max_depth=5 ..............................\n",
      "[CV] ..... min_samples_split=210, max_depth=5, score=0.740071 -  10.0s\n",
      "[CV] min_samples_split=210, max_depth=5 ..............................\n",
      "[CV] ..... min_samples_split=210, max_depth=5, score=0.752343 -  10.5s\n",
      "[CV] min_samples_split=50, max_depth=6 ...............................\n",
      "[CV] ...... min_samples_split=50, max_depth=6, score=0.747600 -  12.8s\n",
      "[CV] min_samples_split=50, max_depth=6 ...............................\n",
      "[CV] ...... min_samples_split=50, max_depth=6, score=0.741019 -  12.4s\n",
      "[CV] min_samples_split=50, max_depth=6 ...............................\n",
      "[CV] ...... min_samples_split=50, max_depth=6, score=0.750481 -  12.3s\n",
      "[CV] min_samples_split=90, max_depth=6 ...............................\n",
      "[CV] ...... min_samples_split=90, max_depth=6, score=0.747600 -  12.8s\n",
      "[CV] min_samples_split=90, max_depth=6 ...............................\n",
      "[CV] ...... min_samples_split=90, max_depth=6, score=0.741019 -  12.4s\n",
      "[CV] min_samples_split=90, max_depth=6 ...............................\n",
      "[CV] ...... min_samples_split=90, max_depth=6, score=0.750481 -  12.4s\n",
      "[CV] min_samples_split=130, max_depth=6 ..............................\n",
      "[CV] ..... min_samples_split=130, max_depth=6, score=0.745578 -  12.7s\n",
      "[CV] min_samples_split=130, max_depth=6 ..............................\n",
      "[CV] ..... min_samples_split=130, max_depth=6, score=0.740410 -  13.2s\n",
      "[CV] min_samples_split=130, max_depth=6 ..............................\n",
      "[CV] ..... min_samples_split=130, max_depth=6, score=0.751566 -  12.3s\n",
      "[CV] min_samples_split=170, max_depth=6 ..............................\n",
      "[CV] ..... min_samples_split=170, max_depth=6, score=0.747607 -  12.2s\n",
      "[CV] min_samples_split=170, max_depth=6 ..............................\n",
      "[CV] ..... min_samples_split=170, max_depth=6, score=0.740007 -  12.1s\n",
      "[CV] min_samples_split=170, max_depth=6 ..............................\n",
      "[CV] ..... min_samples_split=170, max_depth=6, score=0.754192 -  12.0s\n",
      "[CV] min_samples_split=210, max_depth=6 ..............................\n",
      "[CV] ..... min_samples_split=210, max_depth=6, score=0.749943 -  12.1s\n",
      "[CV] min_samples_split=210, max_depth=6 ..............................\n",
      "[CV] ..... min_samples_split=210, max_depth=6, score=0.740934 -  11.9s\n",
      "[CV] min_samples_split=210, max_depth=6 ..............................\n",
      "[CV] ..... min_samples_split=210, max_depth=6, score=0.754819 -  12.5s\n",
      "[CV] min_samples_split=50, max_depth=7 ...............................\n",
      "[CV] ...... min_samples_split=50, max_depth=7, score=0.749719 -  14.6s\n",
      "[CV] min_samples_split=50, max_depth=7 ...............................\n",
      "[CV] ...... min_samples_split=50, max_depth=7, score=0.740630 -  14.5s\n",
      "[CV] min_samples_split=50, max_depth=7 ...............................\n",
      "[CV] ...... min_samples_split=50, max_depth=7, score=0.750790 -  14.4s\n",
      "[CV] min_samples_split=90, max_depth=7 ...............................\n",
      "[CV] ...... min_samples_split=90, max_depth=7, score=0.749719 -  14.9s\n",
      "[CV] min_samples_split=90, max_depth=7 ...............................\n",
      "[CV] ...... min_samples_split=90, max_depth=7, score=0.740630 -  15.7s\n",
      "[CV] min_samples_split=90, max_depth=7 ...............................\n",
      "[CV] ...... min_samples_split=90, max_depth=7, score=0.750790 -  14.6s\n",
      "[CV] min_samples_split=130, max_depth=7 ..............................\n",
      "[CV] ..... min_samples_split=130, max_depth=7, score=0.743046 -  15.3s\n",
      "[CV] min_samples_split=130, max_depth=7 ..............................\n",
      "[CV] ..... min_samples_split=130, max_depth=7, score=0.741141 -  14.3s\n",
      "[CV] min_samples_split=130, max_depth=7 ..............................\n",
      "[CV] ..... min_samples_split=130, max_depth=7, score=0.748196 -  14.3s\n",
      "[CV] min_samples_split=170, max_depth=7 ..............................\n",
      "[CV] ..... min_samples_split=170, max_depth=7, score=0.745107 -  14.2s\n",
      "[CV] min_samples_split=170, max_depth=7 ..............................\n",
      "[CV] ..... min_samples_split=170, max_depth=7, score=0.738072 -  14.0s\n",
      "[CV] min_samples_split=170, max_depth=7 ..............................\n",
      "[CV] ..... min_samples_split=170, max_depth=7, score=0.752544 -  14.3s\n",
      "[CV] min_samples_split=210, max_depth=7 ..............................\n",
      "[CV] ..... min_samples_split=210, max_depth=7, score=0.746336 -  13.9s\n",
      "[CV] min_samples_split=210, max_depth=7 ..............................\n",
      "[CV] ..... min_samples_split=210, max_depth=7, score=0.738243 -  14.8s\n",
      "[CV] min_samples_split=210, max_depth=7 ..............................\n",
      "[CV] ..... min_samples_split=210, max_depth=7, score=0.754014 -  16.4s\n",
      "[CV] min_samples_split=50, max_depth=8 ...............................\n",
      "[CV] ...... min_samples_split=50, max_depth=8, score=0.739954 -  17.9s\n",
      "[CV] min_samples_split=50, max_depth=8 ...............................\n",
      "[CV] ...... min_samples_split=50, max_depth=8, score=0.738277 -  18.7s\n",
      "[CV] min_samples_split=50, max_depth=8 ...............................\n",
      "[CV] ...... min_samples_split=50, max_depth=8, score=0.750480 -  19.0s\n",
      "[CV] min_samples_split=90, max_depth=8 ...............................\n",
      "[CV] ...... min_samples_split=90, max_depth=8, score=0.739954 -  20.0s\n",
      "[CV] min_samples_split=90, max_depth=8 ...............................\n",
      "[CV] ...... min_samples_split=90, max_depth=8, score=0.738277 -  17.5s\n",
      "[CV] min_samples_split=90, max_depth=8 ...............................\n",
      "[CV] ...... min_samples_split=90, max_depth=8, score=0.750480 -  17.5s\n",
      "[CV] min_samples_split=130, max_depth=8 ..............................\n",
      "[CV] ..... min_samples_split=130, max_depth=8, score=0.745802 -  17.7s\n",
      "[CV] min_samples_split=130, max_depth=8 ..............................\n",
      "[CV] ..... min_samples_split=130, max_depth=8, score=0.737460 -  16.5s\n",
      "[CV] min_samples_split=130, max_depth=8 ..............................\n",
      "[CV] ..... min_samples_split=130, max_depth=8, score=0.748870 -  17.2s\n",
      "[CV] min_samples_split=170, max_depth=8 ..............................\n",
      "[CV] ..... min_samples_split=170, max_depth=8, score=0.741789 -  17.8s\n",
      "[CV] min_samples_split=170, max_depth=8 ..............................\n",
      "[CV] ..... min_samples_split=170, max_depth=8, score=0.735002 -  18.4s\n",
      "[CV] min_samples_split=170, max_depth=8 ..............................\n",
      "[CV] ..... min_samples_split=170, max_depth=8, score=0.749788 -  18.8s\n",
      "[CV] min_samples_split=210, max_depth=8 ..............................\n",
      "[CV] ..... min_samples_split=210, max_depth=8, score=0.743177 -  18.5s\n",
      "[CV] min_samples_split=210, max_depth=8 ..............................\n",
      "[CV] ..... min_samples_split=210, max_depth=8, score=0.734390 -  17.0s\n",
      "[CV] min_samples_split=210, max_depth=8 ..............................\n",
      "[CV] ..... min_samples_split=210, max_depth=8, score=0.748641 -  18.6s\n",
      "[CV] min_samples_split=50, max_depth=9 ...............................\n",
      "[CV] ...... min_samples_split=50, max_depth=9, score=0.740976 -  21.4s\n",
      "[CV] min_samples_split=50, max_depth=9 ...............................\n",
      "[CV] ...... min_samples_split=50, max_depth=9, score=0.738213 -  19.8s\n",
      "[CV] min_samples_split=50, max_depth=9 ...............................\n",
      "[CV] ...... min_samples_split=50, max_depth=9, score=0.745253 -  19.4s\n",
      "[CV] min_samples_split=90, max_depth=9 ...............................\n",
      "[CV] ...... min_samples_split=90, max_depth=9, score=0.740976 -  19.5s\n",
      "[CV] min_samples_split=90, max_depth=9 ...............................\n",
      "[CV] ...... min_samples_split=90, max_depth=9, score=0.738213 -  20.0s\n",
      "[CV] min_samples_split=90, max_depth=9 ...............................\n",
      "[CV] ...... min_samples_split=90, max_depth=9, score=0.745253 -  20.0s\n",
      "[CV] min_samples_split=130, max_depth=9 ..............................\n",
      "[CV] ..... min_samples_split=130, max_depth=9, score=0.738463 -  19.1s\n",
      "[CV] min_samples_split=130, max_depth=9 ..............................\n",
      "[CV] ..... min_samples_split=130, max_depth=9, score=0.736196 -  18.8s\n",
      "[CV] min_samples_split=130, max_depth=9 ..............................\n",
      "[CV] ..... min_samples_split=130, max_depth=9, score=0.751323 -  18.6s\n",
      "[CV] min_samples_split=170, max_depth=9 ..............................\n",
      "[CV] ..... min_samples_split=170, max_depth=9, score=0.747304 -  18.4s\n",
      "[CV] min_samples_split=170, max_depth=9 ..............................\n",
      "[CV] ..... min_samples_split=170, max_depth=9, score=0.731707 -  19.3s\n",
      "[CV] min_samples_split=170, max_depth=9 ..............................\n",
      "[CV] ..... min_samples_split=170, max_depth=9, score=0.748098 -  19.0s\n",
      "[CV] min_samples_split=210, max_depth=9 ..............................\n",
      "[CV] ..... min_samples_split=210, max_depth=9, score=0.742307 -  19.5s\n",
      "[CV] min_samples_split=210, max_depth=9 ..............................\n",
      "[CV] ..... min_samples_split=210, max_depth=9, score=0.736512 -  18.5s\n",
      "[CV] min_samples_split=210, max_depth=9 ..............................\n",
      "[CV] ..... min_samples_split=210, max_depth=9, score=0.745773 -  17.9s\n",
      "[CV] min_samples_split=50, max_depth=10 ..............................\n",
      "[CV] ..... min_samples_split=50, max_depth=10, score=0.737888 -  21.8s\n",
      "[CV] min_samples_split=50, max_depth=10 ..............................\n",
      "[CV] ..... min_samples_split=50, max_depth=10, score=0.729205 -  24.5s\n",
      "[CV] min_samples_split=50, max_depth=10 ..............................\n",
      "[CV] ..... min_samples_split=50, max_depth=10, score=0.744681 -  22.3s\n",
      "[CV] min_samples_split=90, max_depth=10 ..............................\n",
      "[CV] ..... min_samples_split=90, max_depth=10, score=0.737888 -  22.0s\n",
      "[CV] min_samples_split=90, max_depth=10 ..............................\n",
      "[CV] ..... min_samples_split=90, max_depth=10, score=0.729205 -  23.1s\n",
      "[CV] min_samples_split=90, max_depth=10 ..............................\n",
      "[CV] ..... min_samples_split=90, max_depth=10, score=0.744681 -  23.3s\n",
      "[CV] min_samples_split=130, max_depth=10 .............................\n",
      "[CV] .... min_samples_split=130, max_depth=10, score=0.742448 -  22.2s\n",
      "[CV] min_samples_split=130, max_depth=10 .............................\n",
      "[CV] .... min_samples_split=130, max_depth=10, score=0.738027 -  21.2s\n",
      "[CV] min_samples_split=130, max_depth=10 .............................\n",
      "[CV] .... min_samples_split=130, max_depth=10, score=0.744428 -  22.0s\n",
      "[CV] min_samples_split=170, max_depth=10 .............................\n",
      "[CV] .... min_samples_split=170, max_depth=10, score=0.740519 -  22.6s\n",
      "[CV] min_samples_split=170, max_depth=10 .............................\n",
      "[CV] .... min_samples_split=170, max_depth=10, score=0.731825 -  21.4s\n",
      "[CV] min_samples_split=170, max_depth=10 .............................\n",
      "[CV] .... min_samples_split=170, max_depth=10, score=0.745062 -  22.9s\n",
      "[CV] min_samples_split=210, max_depth=10 .............................\n",
      "[CV] .... min_samples_split=210, max_depth=10, score=0.742144 -  21.5s\n",
      "[CV] min_samples_split=210, max_depth=10 .............................\n",
      "[CV] .... min_samples_split=210, max_depth=10, score=0.733225 -  20.1s\n",
      "[CV] min_samples_split=210, max_depth=10 .............................\n",
      "[CV] .... min_samples_split=210, max_depth=10, score=0.748022 -  19.9s\n",
      "[CV] min_samples_split=50, max_depth=11 ..............................\n",
      "[CV] ..... min_samples_split=50, max_depth=11, score=0.734911 -  24.9s\n",
      "[CV] min_samples_split=50, max_depth=11 ..............................\n",
      "[CV] ..... min_samples_split=50, max_depth=11, score=0.734808 -  23.9s\n",
      "[CV] min_samples_split=50, max_depth=11 ..............................\n",
      "[CV] ..... min_samples_split=50, max_depth=11, score=0.743445 -  24.0s\n",
      "[CV] min_samples_split=90, max_depth=11 ..............................\n",
      "[CV] ..... min_samples_split=90, max_depth=11, score=0.734911 -  24.5s\n",
      "[CV] min_samples_split=90, max_depth=11 ..............................\n",
      "[CV] ..... min_samples_split=90, max_depth=11, score=0.734808 -  24.3s\n",
      "[CV] min_samples_split=90, max_depth=11 ..............................\n",
      "[CV] ..... min_samples_split=90, max_depth=11, score=0.743445 -  24.7s\n",
      "[CV] min_samples_split=130, max_depth=11 .............................\n",
      "[CV] .... min_samples_split=130, max_depth=11, score=0.738666 -  23.5s\n",
      "[CV] min_samples_split=130, max_depth=11 .............................\n",
      "[CV] .... min_samples_split=130, max_depth=11, score=0.728438 -  23.4s\n",
      "[CV] min_samples_split=130, max_depth=11 .............................\n",
      "[CV] .... min_samples_split=130, max_depth=11, score=0.747184 -  23.2s\n",
      "[CV] min_samples_split=170, max_depth=11 .............................\n",
      "[CV] .... min_samples_split=170, max_depth=11, score=0.737105 -  22.8s\n",
      "[CV] min_samples_split=170, max_depth=11 .............................\n",
      "[CV] .... min_samples_split=170, max_depth=11, score=0.729758 -  22.4s\n",
      "[CV] min_samples_split=170, max_depth=11 .............................\n",
      "[CV] .... min_samples_split=170, max_depth=11, score=0.744118 -  23.2s\n",
      "[CV] min_samples_split=210, max_depth=11 .............................\n",
      "[CV] .... min_samples_split=210, max_depth=11, score=0.737973 -  24.4s\n",
      "[CV] min_samples_split=210, max_depth=11 .............................\n",
      "[CV] .... min_samples_split=210, max_depth=11, score=0.728009 -  22.2s\n",
      "[CV] min_samples_split=210, max_depth=11 .............................\n",
      "[CV] .... min_samples_split=210, max_depth=11, score=0.745867 -  23.3s\n"
     ]
    },
    {
     "name": "stderr",
     "output_type": "stream",
     "text": [
      "[Parallel(n_jobs=1)]: Done 105 out of 105 | elapsed: 30.2min finished\n"
     ]
    },
    {
     "name": "stdout",
     "output_type": "stream",
     "text": [
      "Unoptimized model\n",
      "------\n",
      "Accuracy score on testing data: 0.8676\n",
      "F-score on testing data: 0.7447\n",
      "\n",
      "Optimized Model\n",
      "------\n",
      "Final accuracy score on the testing data: 0.8690\n",
      "Final F-score on the testing data: 0.7480\n"
     ]
    }
   ],
   "source": [
    "# step2\n",
    "# tuning tree parameters : min_sample_split, max_depth\n",
    "from sklearn.grid_search import GridSearchCV\n",
    "from sklearn.metrics import make_scorer\n",
    "from sklearn.metrics import fbeta_score\n",
    "from sklearn.ensemble import GradientBoostingClassifier\n",
    "# TODO: Initialize the classifier\n",
    "clf = GradientBoostingClassifier(learning_rate=0.15,n_estimators=380, min_samples_leaf=50, \n",
    "                                 max_features=\"sqrt\",subsample=0.8,random_state=rand)\n",
    "\n",
    "# TODO: Create the parameters list you wish to tune\n",
    "parameters = {'min_samples_split':range(50,240,40),'max_depth':range(5,12,1)}\n",
    "\n",
    "# TODO: Make an fbeta_score scoring object\n",
    "scorer = make_scorer(fbeta_score,beta=0.5)\n",
    "\n",
    "# TODO: Perform grid search on the classifier using 'scorer' as the scoring method\n",
    "grid_obj = GridSearchCV(clf,parameters,scoring=scorer,verbose=5)\n",
    "\n",
    "\n",
    "# TODO: Fit the grid search object to the training data and find the optimal parameters\n",
    "grid_fit = grid_obj.fit(X_train,y_train)\n",
    "\n",
    "# Get the estimator\n",
    "best_clf = grid_fit.best_estimator_\n",
    "\n",
    "# Make predictions using the unoptimized and model\n",
    "predictions = (clf.fit(X_train, y_train)).predict(X_test)\n",
    "best_predictions = best_clf.predict(X_test)\n",
    "\n",
    "# Report the before-and-afterscores\n",
    "print \"Unoptimized model\\n------\"\n",
    "print \"Accuracy score on testing data: {:.4f}\".format(accuracy_score(y_test, predictions))\n",
    "print \"F-score on testing data: {:.4f}\".format(fbeta_score(y_test, predictions, beta = 0.5))\n",
    "print \"\\nOptimized Model\\n------\"\n",
    "print \"Final accuracy score on the testing data: {:.4f}\".format(accuracy_score(y_test, best_predictions))\n",
    "print \"Final F-score on the testing data: {:.4f}\".format(fbeta_score(y_test, best_predictions, beta = 0.5))"
   ]
  },
  {
   "cell_type": "markdown",
   "metadata": {},
   "source": [
    "## Result after step2##\n",
    "* **min_sample_split** : 210\n",
    "* **max_depth** : 6"
   ]
  },
  {
   "cell_type": "code",
   "execution_count": 34,
   "metadata": {},
   "outputs": [
    {
     "name": "stdout",
     "output_type": "stream",
     "text": [
      "Fitting 3 folds for each of 27 candidates, totalling 81 fits\n",
      "[CV] max_features=8 ..................................................\n",
      "[CV] ......................... max_features=8, score=0.743553 -  10.7s\n",
      "[CV] max_features=8 ..................................................\n"
     ]
    },
    {
     "name": "stderr",
     "output_type": "stream",
     "text": [
      "[Parallel(n_jobs=1)]: Done   1 out of   1 | elapsed:   10.7s remaining:    0.0s\n"
     ]
    },
    {
     "name": "stdout",
     "output_type": "stream",
     "text": [
      "[CV] ......................... max_features=8, score=0.736236 -  11.1s\n",
      "[CV] max_features=8 ..................................................\n"
     ]
    },
    {
     "name": "stderr",
     "output_type": "stream",
     "text": [
      "[Parallel(n_jobs=1)]: Done   2 out of   2 | elapsed:   21.8s remaining:    0.0s\n"
     ]
    },
    {
     "name": "stdout",
     "output_type": "stream",
     "text": [
      "[CV] ......................... max_features=8, score=0.751725 -  12.6s\n",
      "[CV] max_features=9 ..................................................\n"
     ]
    },
    {
     "name": "stderr",
     "output_type": "stream",
     "text": [
      "[Parallel(n_jobs=1)]: Done   3 out of   3 | elapsed:   34.4s remaining:    0.0s\n"
     ]
    },
    {
     "name": "stdout",
     "output_type": "stream",
     "text": [
      "[CV] ......................... max_features=9, score=0.749035 -  11.4s\n",
      "[CV] max_features=9 ..................................................\n"
     ]
    },
    {
     "name": "stderr",
     "output_type": "stream",
     "text": [
      "[Parallel(n_jobs=1)]: Done   4 out of   4 | elapsed:   45.9s remaining:    0.0s\n"
     ]
    },
    {
     "name": "stdout",
     "output_type": "stream",
     "text": [
      "[CV] ......................... max_features=9, score=0.740312 -  11.8s\n",
      "[CV] max_features=9 ..................................................\n",
      "[CV] ......................... max_features=9, score=0.752354 -  13.2s\n",
      "[CV] max_features=10 .................................................\n",
      "[CV] ........................ max_features=10, score=0.749943 -  12.4s\n",
      "[CV] max_features=10 .................................................\n",
      "[CV] ........................ max_features=10, score=0.740934 -  14.0s\n",
      "[CV] max_features=10 .................................................\n",
      "[CV] ........................ max_features=10, score=0.754819 -  14.8s\n",
      "[CV] max_features=11 .................................................\n",
      "[CV] ........................ max_features=11, score=0.742448 -  15.9s\n",
      "[CV] max_features=11 .................................................\n",
      "[CV] ........................ max_features=11, score=0.738903 -  14.9s\n",
      "[CV] max_features=11 .................................................\n",
      "[CV] ........................ max_features=11, score=0.752560 -  16.4s\n",
      "[CV] max_features=12 .................................................\n",
      "[CV] ........................ max_features=12, score=0.748358 -  15.1s\n",
      "[CV] max_features=12 .................................................\n",
      "[CV] ........................ max_features=12, score=0.738062 -  13.5s\n",
      "[CV] max_features=12 .................................................\n",
      "[CV] ........................ max_features=12, score=0.754087 -  13.1s\n",
      "[CV] max_features=13 .................................................\n",
      "[CV] ........................ max_features=13, score=0.747467 -  14.1s\n",
      "[CV] max_features=13 .................................................\n",
      "[CV] ........................ max_features=13, score=0.741224 -  14.7s\n",
      "[CV] max_features=13 .................................................\n",
      "[CV] ........................ max_features=13, score=0.753867 -  15.9s\n",
      "[CV] max_features=14 .................................................\n",
      "[CV] ........................ max_features=14, score=0.745267 -  16.1s\n",
      "[CV] max_features=14 .................................................\n",
      "[CV] ........................ max_features=14, score=0.740111 -  16.2s\n",
      "[CV] max_features=14 .................................................\n",
      "[CV] ........................ max_features=14, score=0.755454 -  16.7s\n",
      "[CV] max_features=15 .................................................\n",
      "[CV] ........................ max_features=15, score=0.746117 -  15.9s\n",
      "[CV] max_features=15 .................................................\n",
      "[CV] ........................ max_features=15, score=0.738228 -  15.3s\n",
      "[CV] max_features=15 .................................................\n",
      "[CV] ........................ max_features=15, score=0.751331 -  15.2s\n",
      "[CV] max_features=16 .................................................\n",
      "[CV] ........................ max_features=16, score=0.747910 -  16.1s\n",
      "[CV] max_features=16 .................................................\n",
      "[CV] ........................ max_features=16, score=0.738245 -  17.0s\n",
      "[CV] max_features=16 .................................................\n",
      "[CV] ........................ max_features=16, score=0.754782 -  18.4s\n",
      "[CV] max_features=17 .................................................\n",
      "[CV] ........................ max_features=17, score=0.746654 -  19.5s\n",
      "[CV] max_features=17 .................................................\n",
      "[CV] ........................ max_features=17, score=0.739240 -  17.6s\n",
      "[CV] max_features=17 .................................................\n",
      "[CV] ........................ max_features=17, score=0.755818 -  16.7s\n",
      "[CV] max_features=18 .................................................\n",
      "[CV] ........................ max_features=18, score=0.746529 -  17.6s\n",
      "[CV] max_features=18 .................................................\n",
      "[CV] ........................ max_features=18, score=0.742552 -  17.6s\n",
      "[CV] max_features=18 .................................................\n",
      "[CV] ........................ max_features=18, score=0.754695 -  17.5s\n",
      "[CV] max_features=19 .................................................\n",
      "[CV] ........................ max_features=19, score=0.745230 -  18.8s\n",
      "[CV] max_features=19 .................................................\n",
      "[CV] ........................ max_features=19, score=0.737875 -  19.0s\n",
      "[CV] max_features=19 .................................................\n",
      "[CV] ........................ max_features=19, score=0.754186 -  19.1s\n",
      "[CV] max_features=20 .................................................\n",
      "[CV] ........................ max_features=20, score=0.748076 -  19.8s\n",
      "[CV] max_features=20 .................................................\n",
      "[CV] ........................ max_features=20, score=0.742387 -  19.8s\n",
      "[CV] max_features=20 .................................................\n",
      "[CV] ........................ max_features=20, score=0.749480 -  19.7s\n",
      "[CV] max_features=21 .................................................\n",
      "[CV] ........................ max_features=21, score=0.748368 -  21.4s\n",
      "[CV] max_features=21 .................................................\n",
      "[CV] ........................ max_features=21, score=0.738328 -  19.6s\n",
      "[CV] max_features=21 .................................................\n",
      "[CV] ........................ max_features=21, score=0.750402 -  21.1s\n",
      "[CV] max_features=22 .................................................\n",
      "[CV] ........................ max_features=22, score=0.747611 -  22.8s\n",
      "[CV] max_features=22 .................................................\n",
      "[CV] ........................ max_features=22, score=0.734848 -  20.6s\n",
      "[CV] max_features=22 .................................................\n",
      "[CV] ........................ max_features=22, score=0.749713 -  22.0s\n",
      "[CV] max_features=23 .................................................\n",
      "[CV] ........................ max_features=23, score=0.743634 -  21.2s\n",
      "[CV] max_features=23 .................................................\n",
      "[CV] ........................ max_features=23, score=0.738969 -  20.9s\n",
      "[CV] max_features=23 .................................................\n",
      "[CV] ........................ max_features=23, score=0.748174 -  20.7s\n",
      "[CV] max_features=24 .................................................\n",
      "[CV] ........................ max_features=24, score=0.744368 -  22.3s\n",
      "[CV] max_features=24 .................................................\n",
      "[CV] ........................ max_features=24, score=0.736546 -  22.8s\n",
      "[CV] max_features=24 .................................................\n",
      "[CV] ........................ max_features=24, score=0.750478 -  21.6s\n",
      "[CV] max_features=25 .................................................\n",
      "[CV] ........................ max_features=25, score=0.743421 -  22.4s\n",
      "[CV] max_features=25 .................................................\n",
      "[CV] ........................ max_features=25, score=0.736745 -  22.1s\n",
      "[CV] max_features=25 .................................................\n",
      "[CV] ........................ max_features=25, score=0.751551 -  22.7s\n",
      "[CV] max_features=26 .................................................\n",
      "[CV] ........................ max_features=26, score=0.744117 -  23.1s\n",
      "[CV] max_features=26 .................................................\n",
      "[CV] ........................ max_features=26, score=0.739915 -  23.6s\n",
      "[CV] max_features=26 .................................................\n",
      "[CV] ........................ max_features=26, score=0.751704 -  24.2s\n",
      "[CV] max_features=27 .................................................\n",
      "[CV] ........................ max_features=27, score=0.737888 -  23.7s\n",
      "[CV] max_features=27 .................................................\n",
      "[CV] ........................ max_features=27, score=0.737371 -  23.3s\n",
      "[CV] max_features=27 .................................................\n",
      "[CV] ........................ max_features=27, score=0.751465 -  23.2s\n",
      "[CV] max_features=28 .................................................\n",
      "[CV] ........................ max_features=28, score=0.743289 -  24.4s\n",
      "[CV] max_features=28 .................................................\n",
      "[CV] ........................ max_features=28, score=0.737875 -  24.8s\n",
      "[CV] max_features=28 .................................................\n",
      "[CV] ........................ max_features=28, score=0.750096 -  24.2s\n",
      "[CV] max_features=29 .................................................\n",
      "[CV] ........................ max_features=29, score=0.743248 -  26.0s\n",
      "[CV] max_features=29 .................................................\n",
      "[CV] ........................ max_features=29, score=0.742490 -  26.1s\n",
      "[CV] max_features=29 .................................................\n",
      "[CV] ........................ max_features=29, score=0.755238 -  25.5s\n",
      "[CV] max_features=30 .................................................\n",
      "[CV] ........................ max_features=30, score=0.746868 -  26.0s\n",
      "[CV] max_features=30 .................................................\n",
      "[CV] ........................ max_features=30, score=0.736803 -  25.6s\n",
      "[CV] max_features=30 .................................................\n",
      "[CV] ........................ max_features=30, score=0.751934 -  25.0s\n",
      "[CV] max_features=31 .................................................\n",
      "[CV] ........................ max_features=31, score=0.746628 -  26.4s\n",
      "[CV] max_features=31 .................................................\n",
      "[CV] ........................ max_features=31, score=0.737427 -  26.3s\n",
      "[CV] max_features=31 .................................................\n",
      "[CV] ........................ max_features=31, score=0.748031 -  25.5s\n",
      "[CV] max_features=32 .................................................\n",
      "[CV] ........................ max_features=32, score=0.744745 -  27.0s\n",
      "[CV] max_features=32 .................................................\n",
      "[CV] ........................ max_features=32, score=0.739575 -  27.0s\n",
      "[CV] max_features=32 .................................................\n",
      "[CV] ........................ max_features=32, score=0.748336 -  27.1s\n",
      "[CV] max_features=33 .................................................\n",
      "[CV] ........................ max_features=33, score=0.742904 -  28.0s\n",
      "[CV] max_features=33 .................................................\n",
      "[CV] ........................ max_features=33, score=0.737711 -  28.6s\n",
      "[CV] max_features=33 .................................................\n",
      "[CV] ........................ max_features=33, score=0.749329 -  28.5s\n",
      "[CV] max_features=34 .................................................\n",
      "[CV] ........................ max_features=34, score=0.741553 -  29.8s\n",
      "[CV] max_features=34 .................................................\n",
      "[CV] ........................ max_features=34, score=0.735824 -  28.2s\n",
      "[CV] max_features=34 .................................................\n",
      "[CV] ........................ max_features=34, score=0.748868 -  28.0s\n"
     ]
    },
    {
     "name": "stderr",
     "output_type": "stream",
     "text": [
      "[Parallel(n_jobs=1)]: Done  81 out of  81 | elapsed: 27.3min finished\n"
     ]
    },
    {
     "name": "stdout",
     "output_type": "stream",
     "text": [
      "Unoptimized model\n",
      "------\n",
      "Accuracy score on testing data: 0.8679\n",
      "F-score on testing data: 0.7419\n",
      "\n",
      "Optimized Model\n",
      "------\n",
      "Final accuracy score on the testing data: 0.8690\n",
      "Final F-score on the testing data: 0.7480\n"
     ]
    }
   ],
   "source": [
    "#step3\n",
    "# tuning tree parameters : max_features\n",
    "from sklearn.grid_search import GridSearchCV\n",
    "from sklearn.metrics import make_scorer\n",
    "from sklearn.metrics import fbeta_score\n",
    "from sklearn.ensemble import GradientBoostingClassifier\n",
    "# TODO: Initialize the classifier\n",
    "clf = GradientBoostingClassifier(learning_rate=0.15,n_estimators=380, min_samples_split = 210,\n",
    "                                 max_depth=6,min_samples_leaf=50,subsample=0.8,random_state=rand)\n",
    "\n",
    "# TODO: Create the parameters list you wish to tune\n",
    "parameters = {'max_features':range(8,35,1)}\n",
    "\n",
    "# TODO: Make an fbeta_score scoring object\n",
    "scorer = make_scorer(fbeta_score,beta=0.5)\n",
    "\n",
    "# TODO: Perform grid search on the classifier using 'scorer' as the scoring method\n",
    "grid_obj = GridSearchCV(clf,parameters,scoring=scorer,verbose=5)\n",
    "\n",
    "\n",
    "# TODO: Fit the grid search object to the training data and find the optimal parameters\n",
    "grid_fit = grid_obj.fit(X_train,y_train)\n",
    "\n",
    "# Get the estimator\n",
    "best_clf = grid_fit.best_estimator_\n",
    "\n",
    "# Make predictions using the unoptimized and model\n",
    "predictions = (clf.fit(X_train, y_train)).predict(X_test)\n",
    "best_predictions = best_clf.predict(X_test)\n",
    "\n",
    "# Report the before-and-afterscores\n",
    "print \"Unoptimized model\\n------\"\n",
    "print \"Accuracy score on testing data: {:.4f}\".format(accuracy_score(y_test, predictions))\n",
    "print \"F-score on testing data: {:.4f}\".format(fbeta_score(y_test, predictions, beta = 0.5))\n",
    "print \"\\nOptimized Model\\n------\"\n",
    "print \"Final accuracy score on the testing data: {:.4f}\".format(accuracy_score(y_test, best_predictions))\n",
    "print \"Final F-score on the testing data: {:.4f}\".format(fbeta_score(y_test, best_predictions, beta = 0.5))"
   ]
  },
  {
   "cell_type": "markdown",
   "metadata": {},
   "source": [
    "## result after step-3 ##\n",
    "* **max_feature** : 10"
   ]
  },
  {
   "cell_type": "code",
   "execution_count": 36,
   "metadata": {},
   "outputs": [
    {
     "name": "stdout",
     "output_type": "stream",
     "text": [
      "Fitting 3 folds for each of 9 candidates, totalling 27 fits\n",
      "[CV] subsample=0.6 ...................................................\n",
      "[CV] .......................... subsample=0.6, score=0.751006 -  12.3s\n",
      "[CV] subsample=0.6 ...................................................\n"
     ]
    },
    {
     "name": "stderr",
     "output_type": "stream",
     "text": [
      "[Parallel(n_jobs=1)]: Done   1 out of   1 | elapsed:   12.3s remaining:    0.0s\n"
     ]
    },
    {
     "name": "stdout",
     "output_type": "stream",
     "text": [
      "[CV] .......................... subsample=0.6, score=0.741280 -  12.6s\n",
      "[CV] subsample=0.6 ...................................................\n"
     ]
    },
    {
     "name": "stderr",
     "output_type": "stream",
     "text": [
      "[Parallel(n_jobs=1)]: Done   2 out of   2 | elapsed:   24.9s remaining:    0.0s\n"
     ]
    },
    {
     "name": "stdout",
     "output_type": "stream",
     "text": [
      "[CV] .......................... subsample=0.6, score=0.753117 -  12.7s\n",
      "[CV] subsample=0.65 ..................................................\n"
     ]
    },
    {
     "name": "stderr",
     "output_type": "stream",
     "text": [
      "[Parallel(n_jobs=1)]: Done   3 out of   3 | elapsed:   37.6s remaining:    0.0s\n"
     ]
    },
    {
     "name": "stdout",
     "output_type": "stream",
     "text": [
      "[CV] ......................... subsample=0.65, score=0.747304 -  12.6s\n",
      "[CV] subsample=0.65 ..................................................\n"
     ]
    },
    {
     "name": "stderr",
     "output_type": "stream",
     "text": [
      "[Parallel(n_jobs=1)]: Done   4 out of   4 | elapsed:   50.2s remaining:    0.0s\n"
     ]
    },
    {
     "name": "stdout",
     "output_type": "stream",
     "text": [
      "[CV] ......................... subsample=0.65, score=0.741005 -  12.3s\n",
      "[CV] subsample=0.65 ..................................................\n",
      "[CV] ......................... subsample=0.65, score=0.750172 -  12.7s\n",
      "[CV] subsample=0.7 ...................................................\n",
      "[CV] .......................... subsample=0.7, score=0.747987 -  12.9s\n",
      "[CV] subsample=0.7 ...................................................\n",
      "[CV] .......................... subsample=0.7, score=0.736201 -  12.7s\n",
      "[CV] subsample=0.7 ...................................................\n",
      "[CV] .......................... subsample=0.7, score=0.751335 -  12.0s\n",
      "[CV] subsample=0.75 ..................................................\n",
      "[CV] ......................... subsample=0.75, score=0.745844 -  12.5s\n",
      "[CV] subsample=0.75 ..................................................\n",
      "[CV] ......................... subsample=0.75, score=0.742855 -  12.1s\n",
      "[CV] subsample=0.75 ..................................................\n",
      "[CV] ......................... subsample=0.75, score=0.755158 -  13.7s\n",
      "[CV] subsample=0.8 ...................................................\n",
      "[CV] .......................... subsample=0.8, score=0.749943 -  13.3s\n",
      "[CV] subsample=0.8 ...................................................\n",
      "[CV] .......................... subsample=0.8, score=0.740934 -  12.9s\n",
      "[CV] subsample=0.8 ...................................................\n",
      "[CV] .......................... subsample=0.8, score=0.754819 -  12.1s\n",
      "[CV] subsample=0.85 ..................................................\n",
      "[CV] ......................... subsample=0.85, score=0.747748 -  11.8s\n",
      "[CV] subsample=0.85 ..................................................\n",
      "[CV] ......................... subsample=0.85, score=0.740907 -  11.8s\n",
      "[CV] subsample=0.85 ..................................................\n",
      "[CV] ......................... subsample=0.85, score=0.755674 -  11.7s\n",
      "[CV] subsample=0.9 ...................................................\n",
      "[CV] .......................... subsample=0.9, score=0.746682 -  11.9s\n",
      "[CV] subsample=0.9 ...................................................\n",
      "[CV] .......................... subsample=0.9, score=0.741337 -  11.5s\n",
      "[CV] subsample=0.9 ...................................................\n",
      "[CV] .......................... subsample=0.9, score=0.754812 -  11.3s\n",
      "[CV] subsample=0.95 ..................................................\n",
      "[CV] ......................... subsample=0.95, score=0.752506 -  11.4s\n",
      "[CV] subsample=0.95 ..................................................\n",
      "[CV] ......................... subsample=0.95, score=0.741502 -  11.2s\n",
      "[CV] subsample=0.95 ..................................................\n",
      "[CV] ......................... subsample=0.95, score=0.753435 -  11.2s\n",
      "[CV] subsample=1 .....................................................\n",
      "[CV] ............................ subsample=1, score=0.748667 -  10.4s\n",
      "[CV] subsample=1 .....................................................\n",
      "[CV] ............................ subsample=1, score=0.738854 -  10.1s\n",
      "[CV] subsample=1 .....................................................\n",
      "[CV] ............................ subsample=1, score=0.759957 -  10.0s\n"
     ]
    },
    {
     "name": "stderr",
     "output_type": "stream",
     "text": [
      "[Parallel(n_jobs=1)]: Done  27 out of  27 | elapsed:  5.4min finished\n"
     ]
    },
    {
     "name": "stdout",
     "output_type": "stream",
     "text": [
      "Unoptimized model\n",
      "------\n",
      "Accuracy score on testing data: 0.8702\n",
      "F-score on testing data: 0.7503\n",
      "\n",
      "Optimized Model\n",
      "------\n",
      "Final accuracy score on the testing data: 0.8702\n",
      "Final F-score on the testing data: 0.7503\n"
     ]
    }
   ],
   "source": [
    "# tuning boosting parameters : subsample\n",
    "from sklearn.grid_search import GridSearchCV\n",
    "from sklearn.metrics import make_scorer\n",
    "from sklearn.metrics import fbeta_score\n",
    "from sklearn.ensemble import GradientBoostingClassifier\n",
    "# TODO: Initialize the classifier\n",
    "clf = GradientBoostingClassifier(learning_rate=0.15,n_estimators=380, min_samples_split = 210,\n",
    "                                 max_depth=6,min_samples_leaf=50,max_features=10,random_state=rand)\n",
    "\n",
    "# TODO: Create the parameters list you wish to tune\n",
    "parameters = {'subsample':[0.6,0.65,0.7,0.75,0.8,0.85,0.90,0.95,1]}\n",
    "\n",
    "# TODO: Make an fbeta_score scoring object\n",
    "scorer = make_scorer(fbeta_score,beta=0.5)\n",
    "\n",
    "# TODO: Perform grid search on the classifier using 'scorer' as the scoring method\n",
    "grid_obj = GridSearchCV(clf,parameters,scoring=scorer,verbose=5)\n",
    "\n",
    "\n",
    "# TODO: Fit the grid search object to the training data and find the optimal parameters\n",
    "grid_fit = grid_obj.fit(X_train,y_train)\n",
    "\n",
    "# Get the estimator\n",
    "best_clf = grid_fit.best_estimator_\n",
    "\n",
    "# Make predictions using the unoptimized and model\n",
    "predictions = (clf.fit(X_train, y_train)).predict(X_test)\n",
    "best_predictions = best_clf.predict(X_test)\n",
    "\n",
    "# Report the before-and-afterscores\n",
    "print \"Unoptimized model\\n------\"\n",
    "print \"Accuracy score on testing data: {:.4f}\".format(accuracy_score(y_test, predictions))\n",
    "print \"F-score on testing data: {:.4f}\".format(fbeta_score(y_test, predictions, beta = 0.5))\n",
    "print \"\\nOptimized Model\\n------\"\n",
    "print \"Final accuracy score on the testing data: {:.4f}\".format(accuracy_score(y_test, best_predictions))\n",
    "print \"Final F-score on the testing data: {:.4f}\".format(fbeta_score(y_test, best_predictions, beta = 0.5))"
   ]
  },
  {
   "cell_type": "markdown",
   "metadata": {},
   "source": [
    "## result after step-4##\n",
    "* **subsampe** : 1"
   ]
  },
  {
   "cell_type": "code",
   "execution_count": 45,
   "metadata": {},
   "outputs": [
    {
     "name": "stdout",
     "output_type": "stream",
     "text": [
      "Fitting 3 folds for each of 1 candidates, totalling 3 fits\n",
      "[CV] learning_rate=0.05 ..............................................\n",
      "[CV] ..................... learning_rate=0.05, score=0.748734 -  40.1s\n",
      "[CV] learning_rate=0.05 ..............................................\n"
     ]
    },
    {
     "name": "stderr",
     "output_type": "stream",
     "text": [
      "[Parallel(n_jobs=1)]: Done   1 out of   1 | elapsed:   40.1s remaining:    0.0s\n"
     ]
    },
    {
     "name": "stdout",
     "output_type": "stream",
     "text": [
      "[CV] ..................... learning_rate=0.05, score=0.741419 -  39.2s\n",
      "[CV] learning_rate=0.05 ..............................................\n"
     ]
    },
    {
     "name": "stderr",
     "output_type": "stream",
     "text": [
      "[Parallel(n_jobs=1)]: Done   2 out of   2 | elapsed:  1.3min remaining:    0.0s\n"
     ]
    },
    {
     "name": "stdout",
     "output_type": "stream",
     "text": [
      "[CV] ..................... learning_rate=0.05, score=0.759132 -  39.7s\n"
     ]
    },
    {
     "name": "stderr",
     "output_type": "stream",
     "text": [
      "[Parallel(n_jobs=1)]: Done   3 out of   3 | elapsed:  2.0min remaining:    0.0s\n",
      "[Parallel(n_jobs=1)]: Done   3 out of   3 | elapsed:  2.0min finished\n"
     ]
    },
    {
     "name": "stdout",
     "output_type": "stream",
     "text": [
      "Unoptimized model\n",
      "------\n",
      "Accuracy score on testing data: 0.8693\n",
      "F-score on testing data: 0.7467\n",
      "\n",
      "Optimized Model\n",
      "------\n",
      "Final accuracy score on the testing data: 0.8712\n",
      "Final F-score on the testing data: 0.7524\n"
     ]
    }
   ],
   "source": [
    "# tuning boosting parameters : learning_rate\n",
    "from sklearn.grid_search import GridSearchCV\n",
    "from sklearn.metrics import make_scorer\n",
    "from sklearn.metrics import fbeta_score\n",
    "from sklearn.ensemble import GradientBoostingClassifier\n",
    "# TODO: Initialize the classifier\n",
    "clf = GradientBoostingClassifier(n_estimators=1500, min_samples_split = 210,\n",
    "                                 max_depth=6,min_samples_leaf=50,max_features=10,subsample=1,random_state=rand)\n",
    "\n",
    "# TODO: Create the parameters list you wish to tune\n",
    "parameters = {'learning_rate':[0.05]}\n",
    "\n",
    "# TODO: Make an fbeta_score scoring object\n",
    "scorer = make_scorer(fbeta_score,beta=0.5)\n",
    "\n",
    "# TODO: Perform grid search on the classifier using 'scorer' as the scoring method\n",
    "grid_obj = GridSearchCV(clf,parameters,scoring=scorer,verbose=5)\n",
    "\n",
    "\n",
    "# TODO: Fit the grid search object to the training data and find the optimal parameters\n",
    "grid_fit = grid_obj.fit(X_train,y_train)\n",
    "\n",
    "# Get the estimator\n",
    "best_clf = grid_fit.best_estimator_\n",
    "\n",
    "# Make predictions using the unoptimized and model\n",
    "predictions = (clf.fit(X_train, y_train)).predict(X_test)\n",
    "best_predictions = best_clf.predict(X_test)\n",
    "\n",
    "# Report the before-and-afterscores\n",
    "print \"Unoptimized model\\n------\"\n",
    "print \"Accuracy score on testing data: {:.4f}\".format(accuracy_score(y_test, predictions))\n",
    "print \"F-score on testing data: {:.4f}\".format(fbeta_score(y_test, predictions, beta = 0.5))\n",
    "print \"\\nOptimized Model\\n------\"\n",
    "print \"Final accuracy score on the testing data: {:.4f}\".format(accuracy_score(y_test, best_predictions))\n",
    "print \"Final F-score on the testing data: {:.4f}\".format(fbeta_score(y_test, best_predictions, beta = 0.5))"
   ]
  },
  {
   "cell_type": "markdown",
   "metadata": {},
   "source": [
    "# Result after step-5##\n",
    "* **learning_rate**: 0.05\n",
    "* **n_estimators** : 1500"
   ]
  },
  {
   "cell_type": "markdown",
   "metadata": {},
   "source": [
    "### Question 5 - Final Model Evaluation\n",
    "_What is your optimized model's accuracy and F-score on the testing data? Are these scores better or worse than the unoptimized model? How do the results from your optimized model compare to the naive predictor benchmarks you found earlier in **Question 1**?_  \n",
    "**Note:** Fill in the table below with your results, and then provide discussion in the **Answer** box."
   ]
  },
  {
   "cell_type": "markdown",
   "metadata": {},
   "source": [
    "#### Results:\n",
    "\n",
    "|     Metric     | Benchmark Predictor | Unoptimized Model | Optimized Model |\n",
    "| :------------: | :-----------------: | :---------------: | :-------------: | \n",
    "| Accuracy Score | 0.2478              | 0.8630            |  0.8712         |\n",
    "| F-score        | 0.2917              | 0.7395            |  0.7524         |\n"
   ]
  },
  {
   "cell_type": "markdown",
   "metadata": {},
   "source": [
    "**Answer: **\n",
    "*****\n",
    "* What is your optimized model's accuracy and F-score on the testing data :\n",
    "    * F-score: 0.7524\n",
    "    * Accuracy Score: 0.8712\n",
    "* Are these scores better or worse than the unoptimized model? **Yes**, optimised scores are better\n",
    "* How do the results from your optimized model compare to the naive predictor benchmarks you found earlier in Question 1? : optimised scores obtained are much better than the benchmark scores. \n",
    "    * F-score :  0.7524 compared to 0.2917\n",
    "    * Accuracy: 0.8712 compared to o.2478"
   ]
  },
  {
   "cell_type": "markdown",
   "metadata": {},
   "source": [
    "----\n",
    "## Feature Importance\n",
    "\n",
    "An important task when performing supervised learning on a dataset like the census data we study here is determining which features provide the most predictive power. By focusing on the relationship between only a few crucial features and the target label we simplify our understanding of the phenomenon, which is most always a useful thing to do. In the case of this project, that means we wish to identify a small number of features that most strongly predict whether an individual makes at most or more than \\$50,000.\n",
    "\n",
    "Choose a scikit-learn classifier (e.g., adaboost, random forests) that has a `feature_importance_` attribute, which is a function that ranks the importance of features according to the chosen classifier.  In the next python cell fit this classifier to training set and use this attribute to determine the top 5 most important features for the census dataset."
   ]
  },
  {
   "cell_type": "markdown",
   "metadata": {},
   "source": [
    "### Question 6 - Feature Relevance Observation\n",
    "When **Exploring the Data**, it was shown there are thirteen available features for each individual on record in the census data.  \n",
    "_Of these thirteen records, which five features do you believe to be most important for prediction, and in what order would you rank them and why?_"
   ]
  },
  {
   "cell_type": "markdown",
   "metadata": {},
   "source": [
    "# 1. exploring importance of education number#\n",
    "we would be looking at two graphs\n",
    "* frequency plot of each education-number within each income class \n",
    "* boxplot of datapoints in each income class drawn against education-number to gain idea of central tendency"
   ]
  },
  {
   "cell_type": "code",
   "execution_count": 27,
   "metadata": {
    "collapsed": true
   },
   "outputs": [],
   "source": [
    "import seaborn as sns\n",
    "sns.set(style=\"whitegrid\", color_codes=True)"
   ]
  },
  {
   "cell_type": "code",
   "execution_count": 59,
   "metadata": {},
   "outputs": [
    {
     "data": {
      "text/plain": [
       "<matplotlib.axes._subplots.AxesSubplot at 0xe83af08c>"
      ]
     },
     "execution_count": 59,
     "metadata": {},
     "output_type": "execute_result"
    },
    {
     "data": {
      "image/png": "[encoded data removed]",
      "text/plain": [
       "<matplotlib.figure.Figure at 0xe834718c>"
      ]
     },
     "metadata": {},
     "output_type": "display_data"
    }
   ],
   "source": [
    "# importance of education-num:\n",
    "sns.countplot(y=\"education-num\", hue=\"income\", data=data, palette=\"Greens_d\")"
   ]
  },
  {
   "cell_type": "code",
   "execution_count": 79,
   "metadata": {},
   "outputs": [
    {
     "data": {
      "text/plain": [
       "<matplotlib.axes._subplots.AxesSubplot at 0xe7056bec>"
      ]
     },
     "execution_count": 79,
     "metadata": {},
     "output_type": "execute_result"
    },
    {
     "data": {
      "image/png": "[encoded data removed]",
      "text/plain": [
       "<matplotlib.figure.Figure at 0xe701422c>"
      ]
     },
     "metadata": {},
     "output_type": "display_data"
    }
   ],
   "source": [
    "# importance education-num\n",
    "sns.boxplot(y=\"income\",x='education-num', data=data, palette=\"Greens_d\")"
   ]
  },
  {
   "cell_type": "markdown",
   "metadata": {},
   "source": [
    "### conclusion on importance of Education-num###\n",
    "****\n",
    "* Box-plot produced above displays the split created by education number in income classes. >50K classes have education number of about 12 while education class of people earning less than 50K have education number around 9\n",
    "* There are cases where lower education numbers are earning more and higher education numbers earning less. Therefor other features are to be considered in conjunction with this feature\n",
    "* important feature\n",
    "\n"
   ]
  },
  {
   "cell_type": "markdown",
   "metadata": {},
   "source": [
    "# 2. exploring importance of Capital Gain#\n",
    "we would be looking at two graphs\n",
    "* Bar plot of capital-gain for each income-class"
   ]
  },
  {
   "cell_type": "code",
   "execution_count": 78,
   "metadata": {},
   "outputs": [
    {
     "data": {
      "text/plain": [
       "<matplotlib.axes._subplots.AxesSubplot at 0xe73e8aac>"
      ]
     },
     "execution_count": 78,
     "metadata": {},
     "output_type": "execute_result"
    },
    {
     "data": {
      "image/png": "[encoded data removed]",
      "text/plain": [
       "<matplotlib.figure.Figure at 0xe73ee30c>"
      ]
     },
     "metadata": {},
     "output_type": "display_data"
    }
   ],
   "source": [
    "# importance capital-gain\n",
    "sns.barplot(y=\"income\",x='capital-gain', data=data, palette=\"Greens_d\")"
   ]
  },
  {
   "cell_type": "markdown",
   "metadata": {},
   "source": [
    "### conclusion on importance of Capital-Gain###\n",
    "****\n",
    "* It can be seen that capital-gain feature can be excusively used for classification as there is huge difference in mean values of capital gains for the two classes\n",
    "* Important feature\n",
    "****"
   ]
  },
  {
   "cell_type": "markdown",
   "metadata": {},
   "source": [
    "# 3. exploring importance of Capital Loss#\n",
    "we would be looking at two graphs\n",
    "* Bar plot of capital-loss for each income-class"
   ]
  },
  {
   "cell_type": "code",
   "execution_count": 76,
   "metadata": {},
   "outputs": [
    {
     "data": {
      "text/plain": [
       "<matplotlib.axes._subplots.AxesSubplot at 0xe77d55ec>"
      ]
     },
     "execution_count": 76,
     "metadata": {},
     "output_type": "execute_result"
    },
    {
     "data": {
      "image/png": "[encoded data removed]",
      "text/plain": [
       "<matplotlib.figure.Figure at 0xe7c10aec>"
      ]
     },
     "metadata": {},
     "output_type": "display_data"
    }
   ],
   "source": [
    "# importance of capital-loss\n",
    "sns.barplot(y=\"income\",x='capital-loss', data=data, palette=\"Greens_d\")"
   ]
  },
  {
   "cell_type": "markdown",
   "metadata": {},
   "source": [
    "### conclusion on importance of Capital-Loss###\n",
    "****\n",
    "* it can be seen that capital-loss feature can be used to for classification as there is vast difference between values of capital-gain for sample points belonging to the two classes. \n",
    "* Important feature\n",
    "****"
   ]
  },
  {
   "cell_type": "markdown",
   "metadata": {},
   "source": [
    "# 4. exploring importance of occupation#\n",
    "we would be looking at following graphs\n",
    "* frequency plot of each occupation for each income class"
   ]
  },
  {
   "cell_type": "code",
   "execution_count": 64,
   "metadata": {},
   "outputs": [
    {
     "data": {
      "text/plain": [
       "<matplotlib.axes._subplots.AxesSubplot at 0xe7d89f4c>"
      ]
     },
     "execution_count": 64,
     "metadata": {},
     "output_type": "execute_result"
    },
    {
     "data": {
      "image/png": "[encoded data removed]",
      "text/plain": [
       "<matplotlib.figure.Figure at 0xe7d9336c>"
      ]
     },
     "metadata": {},
     "output_type": "display_data"
    }
   ],
   "source": [
    "# importance of occupation\n",
    "sns.countplot(y='occupation',hue='income',data=data)"
   ]
  },
  {
   "cell_type": "markdown",
   "metadata": {},
   "source": [
    "### conclusion on importance of Occupation###\n",
    "****\n",
    "* Clearly all occupation have higher counts of income group less than 50K. Therefore this feature won't be useful in classification of positive class. This feature can be ignored\n",
    "* Not important feature\n",
    "******"
   ]
  },
  {
   "cell_type": "markdown",
   "metadata": {},
   "source": [
    "# 5. exploring importance of Age#\n",
    "we would be looking at following graphs\n",
    "* Box-plot of age distribution in both income classes"
   ]
  },
  {
   "cell_type": "code",
   "execution_count": 74,
   "metadata": {},
   "outputs": [
    {
     "data": {
      "text/plain": [
       "<matplotlib.axes._subplots.AxesSubplot at 0xe777a3cc>"
      ]
     },
     "execution_count": 74,
     "metadata": {},
     "output_type": "execute_result"
    },
    {
     "data": {
      "image/png": "[encoded data removed]",
      "text/plain": [
       "<matplotlib.figure.Figure at 0xe785c9ec>"
      ]
     },
     "metadata": {},
     "output_type": "display_data"
    }
   ],
   "source": [
    "# importance of Age\n",
    "sns.boxplot(y=\"income\",x='age', data=data, palette=\"Greens_d\")"
   ]
  },
  {
   "cell_type": "markdown",
   "metadata": {},
   "source": [
    "### Conclusion on importance of Age###\n",
    "****\n",
    "* Looking at box plot , age of people earning more ythan 50K seem to be more than those earning less than 50K.\n",
    "* this feature can be used in conjunction with other features to strenthen classification, and hence is an important feature\n",
    "* Intuitively also this feature seems relevant. As, at higher paying positions generally more experienced people are present\n",
    "* Important feature\n",
    "******"
   ]
  },
  {
   "cell_type": "markdown",
   "metadata": {},
   "source": [
    "# 6. exploring importance of Hours/week#\n",
    "we would be looking at following graphs\n",
    "* Box-plot of Hours/week distribution in both income classes"
   ]
  },
  {
   "cell_type": "code",
   "execution_count": 73,
   "metadata": {},
   "outputs": [
    {
     "data": {
      "text/plain": [
       "<matplotlib.axes._subplots.AxesSubplot at 0xe78737ec>"
      ]
     },
     "execution_count": 73,
     "metadata": {},
     "output_type": "execute_result"
    },
    {
     "data": {
      "image/png": "[encoded data removed]",
      "text/plain": [
       "<matplotlib.figure.Figure at 0xe7873c6c>"
      ]
     },
     "metadata": {},
     "output_type": "display_data"
    }
   ],
   "source": [
    "# importance marital status:\n",
    "sns.boxplot(y=\"income\",x='hours-per-week', data=data, palette=\"Greens_d\")"
   ]
  },
  {
   "cell_type": "markdown",
   "metadata": {},
   "source": [
    "### Conclusion on importance of hours/week###\n",
    "****\n",
    "* There is very narrow difference in values of hours/week\n",
    "* This feature won't help in distinction between classes. Logically also, there are low paying jobs that demand heavy working hours. Such as transportation business\n",
    "* not important\n",
    "******"
   ]
  },
  {
   "cell_type": "markdown",
   "metadata": {},
   "source": [
    "# 7. exploring importance of marital-status#\n",
    "we would be looking at following graphs\n",
    "* frequency plot of each marital status for each income group"
   ]
  },
  {
   "cell_type": "code",
   "execution_count": 32,
   "metadata": {},
   "outputs": [
    {
     "data": {
      "text/plain": [
       "<seaborn.axisgrid.FacetGrid at 0x7fbf62ec61d0>"
      ]
     },
     "execution_count": 32,
     "metadata": {},
     "output_type": "execute_result"
    },
    {
     "data": {
      "image/png": "[encoded data removed]",
      "text/plain": [
       "<matplotlib.figure.Figure at 0x7fbf630cf110>"
      ]
     },
     "metadata": {},
     "output_type": "display_data"
    }
   ],
   "source": [
    "# importance marital-status\n",
    "sns.factorplot(y=\"income\",\n",
    "               col=\"marital-status\", data=data, kind=\"count\")"
   ]
  },
  {
   "cell_type": "markdown",
   "metadata": {},
   "source": [
    "### Conclusion on importance of marital-status###\n",
    "****\n",
    "* All marital status accept 'Married-Civ_spouse' are having dominantl count of <50k income group.\n",
    "* Presence of marital-status with value 'Married-civ-spouse' indicates high possibility of >50k income groups, whereas if this feature has some other value the possibility of belonging to >50k income group drastically decreases\n",
    "* important feature\n",
    "******"
   ]
  },
  {
   "cell_type": "markdown",
   "metadata": {},
   "source": [
    "# 8. exploring importance of workclass#\n",
    "we would be looking at following graphs\n",
    "* frequency plot of each marital status for each income group"
   ]
  },
  {
   "cell_type": "code",
   "execution_count": 39,
   "metadata": {},
   "outputs": [
    {
     "data": {
      "text/plain": [
       "<seaborn.axisgrid.FacetGrid at 0x7fbf5dfe4350>"
      ]
     },
     "execution_count": 39,
     "metadata": {},
     "output_type": "execute_result"
    },
    {
     "data": {
      "image/png": "[encoded data removed]",
      "text/plain": [
       "<matplotlib.figure.Figure at 0x7fbf5dda2750>"
      ]
     },
     "metadata": {},
     "output_type": "display_data"
    }
   ],
   "source": [
    "# importance workclass\n",
    "sns.factorplot(y=\"income\",\n",
    "               col=\"workclass\", data=data, kind=\"count\")"
   ]
  },
  {
   "cell_type": "markdown",
   "metadata": {},
   "source": [
    "### Conclusion on importance of workclass###\n",
    "****\n",
    "No classification advantage as there are people of both <50k and >50k for most feature values. \n",
    "* Not important\n",
    "******"
   ]
  },
  {
   "cell_type": "markdown",
   "metadata": {},
   "source": [
    "# 9. exploring importance of education-level#\n",
    "we would be looking at following graphs\n",
    "* frequency plot of each marital status for each income group"
   ]
  },
  {
   "cell_type": "code",
   "execution_count": 43,
   "metadata": {},
   "outputs": [
    {
     "data": {
      "text/plain": [
       "<seaborn.axisgrid.FacetGrid at 0x7fbf5d675e50>"
      ]
     },
     "execution_count": 43,
     "metadata": {},
     "output_type": "execute_result"
    },
    {
     "data": {
      "image/png": "[encoded data removed]",
      "text/plain": [
       "<matplotlib.figure.Figure at 0x7fbf5dd19fd0>"
      ]
     },
     "metadata": {},
     "output_type": "display_data"
    }
   ],
   "source": [
    "# importance education-level\n",
    "sns.factorplot(y=\"income\",\n",
    "               col=\"education_level\", data=data, kind=\"count\")"
   ]
  },
  {
   "cell_type": "markdown",
   "metadata": {},
   "source": [
    "### Conclusion on importance of education-level###\n",
    "****\n",
    "* Looking at the plot it's clear that if a person has certain education_level, then only it can belong to >50K category\n",
    "* Important feature\n",
    "\n",
    "******"
   ]
  },
  {
   "cell_type": "markdown",
   "metadata": {},
   "source": [
    "# 10. exploring importance of relationship#\n",
    "we would be looking at following graphs\n",
    "* frequency plot of each marital status for each income group"
   ]
  },
  {
   "cell_type": "code",
   "execution_count": 44,
   "metadata": {},
   "outputs": [
    {
     "data": {
      "text/plain": [
       "<seaborn.axisgrid.FacetGrid at 0x7fbf5c748850>"
      ]
     },
     "execution_count": 44,
     "metadata": {},
     "output_type": "execute_result"
    },
    {
     "data": {
      "image/png": "[encoded data removed]",
      "text/plain": [
       "<matplotlib.figure.Figure at 0x7fbf5c6d0550>"
      ]
     },
     "metadata": {},
     "output_type": "display_data"
    }
   ],
   "source": [
    "# importance of relationship\n",
    "sns.factorplot(y=\"income\",\n",
    "               col=\"relationship\", data=data, kind=\"count\")"
   ]
  },
  {
   "cell_type": "markdown",
   "metadata": {},
   "source": [
    "### Conclusion on importance of relationship###\n",
    "****\n",
    "* This feature is important as looking at graph, People that are either husband or wife have higher chance of belonging to >50k category\n",
    "* Important feature\n",
    "\n",
    "\n",
    "******"
   ]
  },
  {
   "cell_type": "markdown",
   "metadata": {},
   "source": [
    "# 11. exploring importance of race#\n",
    "we would be looking at following graphs\n",
    "* frequency plot of each marital status for each income group"
   ]
  },
  {
   "cell_type": "code",
   "execution_count": 36,
   "metadata": {},
   "outputs": [
    {
     "data": {
      "text/plain": [
       "<matplotlib.axes._subplots.AxesSubplot at 0x7fbf5e6e62d0>"
      ]
     },
     "execution_count": 36,
     "metadata": {},
     "output_type": "execute_result"
    },
    {
     "data": {
      "image/png": "[encoded data removed]",
      "text/plain": [
       "<matplotlib.figure.Figure at 0x7fbf630cfe90>"
      ]
     },
     "metadata": {},
     "output_type": "display_data"
    }
   ],
   "source": [
    "sns.countplot(y=\"race\", hue=\"income\", data=data, palette=\"Greens_d\")"
   ]
  },
  {
   "cell_type": "markdown",
   "metadata": {},
   "source": [
    "### Conclusion on importance of race###\n",
    "****\n",
    "* looking at graph, no particular value of this feature provides classification advantage\n",
    "* not important feature\n",
    "******"
   ]
  },
  {
   "cell_type": "markdown",
   "metadata": {},
   "source": [
    "# 12. exploring importance of sex#\n",
    "we would be looking at following graphs\n",
    "* frequency plot of each marital status for each income group"
   ]
  },
  {
   "cell_type": "code",
   "execution_count": 35,
   "metadata": {},
   "outputs": [
    {
     "data": {
      "text/plain": [
       "<matplotlib.axes._subplots.AxesSubplot at 0x7fbf5e76b450>"
      ]
     },
     "execution_count": 35,
     "metadata": {},
     "output_type": "execute_result"
    },
    {
     "data": {
      "image/png": "[encoded data removed]",
      "text/plain": [
       "<matplotlib.figure.Figure at 0x7fbf62f15650>"
      ]
     },
     "metadata": {},
     "output_type": "display_data"
    }
   ],
   "source": [
    "# importance of sex\n",
    "sns.countplot(y=\"sex\", hue=\"income\", data=data, palette=\"Greens_d\")"
   ]
  },
  {
   "cell_type": "markdown",
   "metadata": {},
   "source": [
    "### Conclusion on importance of sex###\n",
    "*****\n",
    "* no classification advantage as for both sexes the distribution is almost same\n",
    "* not important feature\n",
    "******"
   ]
  },
  {
   "cell_type": "markdown",
   "metadata": {},
   "source": [
    "# 13. exploring importance of native-country#\n",
    "we would be looking at following graphs\n",
    "* frequency plot of each marital status for each income group"
   ]
  },
  {
   "cell_type": "code",
   "execution_count": 34,
   "metadata": {},
   "outputs": [
    {
     "data": {
      "text/plain": [
       "<matplotlib.axes._subplots.AxesSubplot at 0x7fbf62ebc990>"
      ]
     },
     "execution_count": 34,
     "metadata": {},
     "output_type": "execute_result"
    },
    {
     "data": {
      "image/png": "[encoded data removed]",
      "text/plain": [
       "<matplotlib.figure.Figure at 0x7fbf631ed6d0>"
      ]
     },
     "metadata": {},
     "output_type": "display_data"
    }
   ],
   "source": [
    "# importance of native-country\n",
    "sns.countplot(y='native-country',hue='income',data=data)\n"
   ]
  },
  {
   "cell_type": "markdown",
   "metadata": {},
   "source": [
    "### Conclusion on importance of native-country###\n",
    "****\n",
    "* Vast majority of sample points of both classes are Americans. Therefore this feature won't provide any classification advantage\n",
    "* not Important feature\n",
    "\n",
    "******\n"
   ]
  },
  {
   "cell_type": "markdown",
   "metadata": {},
   "source": [
    "**Answer:**\n",
    "#### Important features based on data exploration (ordered rank-wise):\n",
    "1. **Capital-Gain**: As highlighted in exploration done above, Capital gain values create a workable split between the 2 classes of income groups. Capital gain values can be used to single out >50K samples\n",
    "2. **Capital-Loss** : Like capital-gain, >50K class and <50K class have high difference in capital loss values\n",
    "3. **Education-number** : While exploring data it was found that education number and education level played an  important role in deciding income class. Looking at education_num variable, A splitting based on this value looked possible. values greater than 10 were generally high income group. And lower ones low income group. \n",
    "Education_level is also important feature, but looking at the quality of split created by it Education_num feature looks better\n",
    "4. **Marital-status** : In exploration done above Relationship and Marital_Status were highlighted important. Married people living with spouse had higher chance of belonging to higher income group. This feature though can't create split alone, but it can be used in conjunction with other features to create good classification\n",
    "5. **Age** : In exploration chart for Age, it is clearly visible that Higher value of age increses chances of belonging to higher income group."
   ]
  },
  {
   "cell_type": "markdown",
   "metadata": {},
   "source": [
    "### Implementation - Extracting Feature Importance\n",
    "Choose a `scikit-learn` supervised learning algorithm that has a `feature_importance_` attribute availble for it. This attribute is a function that ranks the importance of each feature when making predictions based on the chosen algorithm.\n",
    "\n",
    "In the code cell below, you will need to implement the following:\n",
    " - Import a supervised learning model from sklearn if it is different from the three used earlier.\n",
    " - Train the supervised model on the entire training set.\n",
    " - Extract the feature importances using `'.feature_importances_'`."
   ]
  },
  {
   "cell_type": "code",
   "execution_count": 48,
   "metadata": {},
   "outputs": [
    {
     "data": {
      "image/png": "[encoded data removed]",
      "text/plain": [
       "<matplotlib.figure.Figure at 0xea5086ec>"
      ]
     },
     "metadata": {},
     "output_type": "display_data"
    }
   ],
   "source": [
    "from sklearn.ensemble import GradientBoostingClassifier\n",
    "\n",
    "# TODO: Train the supervised model on the training set\n",
    "clf = GradientBoostingClassifier(random_state=rand)\n",
    "model = clf.fit(X_train,y_train)\n",
    "\n",
    "# TODO: Extract the feature importances\n",
    "importances = model. feature_importances_\n",
    "\n",
    "# Plot\n",
    "vs.feature_plot(importances, X_train, y_train)"
   ]
  },
  {
   "cell_type": "markdown",
   "metadata": {},
   "source": [
    "### Question 7 - Extracting Feature Importance\n",
    "\n",
    "Observe the visualization created above which displays the five most relevant features for predicting if an individual makes at most or above \\$50,000.  \n",
    "_How do these five features compare to the five features you discussed in **Question 6**? If you were close to the same answer, how does this visualization confirm your thoughts? If you were not close, why do you think these features are more relevant?_"
   ]
  },
  {
   "cell_type": "markdown",
   "metadata": {},
   "source": [
    "**Answer:**\n",
    "#### How do these five features compare to the five features you discussed in Question 6? \n",
    "All five features chosen in question 6 correspond  to the 5 features produced above. \n",
    "\n",
    "#### If you were close to the same answer, how does this visualization confirm your thoughts?\n",
    "This visualisation, shows that about 60% predictive capability is hidden in these 5 Features. The data exploration done above was also indicative of the same fact, where I found thatThese % features contributed to creating a split in data based on income level \n",
    "\n"
   ]
  },
  {
   "cell_type": "markdown",
   "metadata": {},
   "source": [
    "### Feature Selection\n",
    "How does a model perform if we only use a subset of all the available features in the data? With less features required to train, the expectation is that training and prediction time is much lower — at the cost of performance metrics. From the visualization above, we see that the top five most important features contribute more than half of the importance of **all** features present in the data. This hints that we can attempt to *reduce the feature space* and simplify the information required for the model to learn. The code cell below will use the same optimized model you found earlier, and train it on the same training set *with only the top five important features*. "
   ]
  },
  {
   "cell_type": "code",
   "execution_count": 52,
   "metadata": {},
   "outputs": [
    {
     "name": "stdout",
     "output_type": "stream",
     "text": [
      "Final Model trained on full data\n",
      "------\n",
      "Accuracy on testing data: 0.8712\n",
      "F-score on testing data: 0.7524\n",
      "\n",
      "Final Model trained on reduced data\n",
      "------\n",
      "Accuracy on testing data: 0.8583\n",
      "F-score on testing data: 0.7234\n"
     ]
    }
   ],
   "source": [
    "# Import functionality for cloning a model\n",
    "#from sklearn.base import clone\n",
    "\n",
    "# Reduce the feature space\n",
    "X_train_reduced = X_train[X_train.columns.values[(np.argsort(importances)[::-1])[:5]]]\n",
    "X_test_reduced = X_test[X_test.columns.values[(np.argsort(importances)[::-1])[:5]]]\n",
    "\n",
    "# Train on the \"best\" model found from grid search earlier\n",
    "clf = GradientBoostingClassifier(learning_rate=0.05,n_estimators=1500, min_samples_split = 210,\n",
    "                                 max_depth=6,min_samples_leaf=50,subsample=1,random_state=rand)\n",
    "\n",
    "clf = clf.fit(X_train_reduced,y_train)\n",
    "# Make new predictions\n",
    "reduced_predictions = clf.predict(X_test_reduced)\n",
    "\n",
    "# Report scores from the final model using both versions of data\n",
    "print \"Final Model trained on full data\\n------\"\n",
    "print \"Accuracy on testing data: {:.4f}\".format(accuracy_score(y_test, best_predictions))\n",
    "print \"F-score on testing data: {:.4f}\".format(fbeta_score(y_test, best_predictions, beta = 0.5))\n",
    "print \"\\nFinal Model trained on reduced data\\n------\"\n",
    "print \"Accuracy on testing data: {:.4f}\".format(accuracy_score(y_test, reduced_predictions))\n",
    "print \"F-score on testing data: {:.4f}\".format(fbeta_score(y_test, reduced_predictions, beta = 0.5))"
   ]
  },
  {
   "cell_type": "markdown",
   "metadata": {},
   "source": [
    "### Question 8 - Effects of Feature Selection\n",
    "*How does the final model's F-score and accuracy score on the reduced data using only five features compare to those same scores when all features are used?*  \n",
    "*If training time was a factor, would you consider using the reduced data as your training set?*"
   ]
  },
  {
   "cell_type": "markdown",
   "metadata": {},
   "source": [
    "**Answer:**\n",
    "#### How does the final model's F-score and accuracy score on the reduced data using only five features compare to those same scores when all features are used? ####\n",
    "* Final Model trained on full data\n",
    "    * Accuracy on testing data: 0.8712\n",
    "    * F-score on testing data: 0.7524\n",
    "\n",
    "* Final Model trained on reduced data\n",
    "    * Accuracy on testing data: 0.8583\n",
    "    * F-score on testing data: 0.7234\n",
    "\n",
    "* F-beta score has reduced by 0.03\n",
    "* accuracy has reduced by 1.5%\n",
    "\n",
    "##### If training time was a factor, would you consider using the reduced data as your training set? #####\n",
    "Yes, i training time was one of constraints I would choose a reduced data as my training set\n",
    "\n"
   ]
  },
  {
   "cell_type": "markdown",
   "metadata": {},
   "source": [
    "> **Note**: Once you have completed all of the code implementations and successfully answered each question above, you may finalize your work by exporting the iPython Notebook as an HTML document. You can do this by using the menu above and navigating to  \n",
    "**File -> Download as -> HTML (.html)**. Include the finished document along with this notebook as your submission."
   ]
  }
 ],
 "metadata": {
  "kernelspec": {
   "display_name": "Python 2",
   "language": "python",
   "name": "python2"
  },
  "language_info": {
   "codemirror_mode": {
    "name": "ipython",
    "version": 2
   },
   "file_extension": ".py",
   "mimetype": "text/x-python",
   "name": "python",
   "nbconvert_exporter": "python",
   "pygments_lexer": "ipython2",
   "version": "2.7.13"
  }
 },
 "nbformat": 4,
 "nbformat_minor": 1
}
